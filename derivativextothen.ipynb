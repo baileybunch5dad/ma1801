{
  "nbformat": 4,
  "nbformat_minor": 0,
  "metadata": {
    "colab": {
      "name": "derivativextothen.ipynb",
      "provenance": [],
      "authorship_tag": "ABX9TyOnIr/BwTbRhUqan+HXUm5b",
      "include_colab_link": true
    },
    "kernelspec": {
      "name": "python3",
      "display_name": "Python 3"
    }
  },
  "cells": [
    {
      "cell_type": "markdown",
      "metadata": {
        "id": "view-in-github",
        "colab_type": "text"
      },
      "source": [
        "<a href=\"https://colab.research.google.com/github/baileybunch5dad/ma1801/blob/main/derivativextothen.ipynb\" target=\"_parent\"><img src=\"https://colab.research.google.com/assets/colab-badge.svg\" alt=\"Open In Colab\"/></a>"
      ]
    },
    {
      "cell_type": "markdown",
      "metadata": {
        "id": "iv5OCPpgkB7L"
      },
      "source": [
        "## Prove $\\frac{d}{dx} x^n=nx^{n-1}$\n",
        "\n",
        "Proof\n",
        "$$\n",
        "\\begin{aligned}\n",
        "\\frac{d}{dx} x^n &= \\lim_{\\Delta x \\to 0} \\frac{(x+\\Delta x)^n-x^n}{\\Delta x} \\\\\n",
        "&= \\lim_{\\Delta x \\to 0} \\frac{x^n + nx^{n-1}\\Delta x + (\\Delta x^2 + \\Delta x^3 + ...) - x^n}{\\Delta x} \\\\\n",
        "&= \\lim_{\\Delta x \\to 0} \\left(nx^{n-1} + (\\Delta x + \\Delta x^2 + ...)  \\right) \\\\\n",
        "&= nx^{n-1} \\\\\n",
        "\\end{aligned}\n",
        "$$"
      ]
    },
    {
      "cell_type": "code",
      "metadata": {
        "colab": {
          "base_uri": "https://localhost:8080/",
          "height": 265
        },
        "id": "qFMPH4yukAm3",
        "outputId": "932a6bac-c0b0-4dd7-9eaa-0b6762be509b"
      },
      "source": [
        "import math\n",
        "import numpy as np\n",
        "import pandas as pd\n",
        "import matplotlib.pyplot as plt\n",
        "n = 3\n",
        "x = np.linspace(-4,4,100)\n",
        "y = x**n \n",
        "plt.plot(x,y,color='blue',label=r'$x^3$')\n",
        "x0=-2.5 \n",
        "y0=x0**n\n",
        "plt.scatter(x0,y0, s=10, color='green', marker='o')\n",
        "plt.text(x0,y0,r'$(x_0,y_0)$')\n",
        "delta=1\n",
        "xs=np.array([x0-delta,x0+delta])\n",
        "ys=(n*x0**(n-1))*(xs-x0)+y0\n",
        "plt.plot(xs,ys,color='red',label=r'tan=$nx^{n-1}$')\n",
        "x1=2.1\n",
        "y1=x1**n\n",
        "plt.scatter(x1,y1, s=10, color='green', marker='o')\n",
        "plt.text(x1,y1,r'$(x_1,y_1)$')\n",
        "delta=1\n",
        "xs=np.array([x1-delta,x1+delta])\n",
        "ys=(n*x1**(n-1))*(xs-x1)+y1\n",
        "plt.plot(xs,ys,color='green',label=r'tan=$nx^{n-1}$')\n",
        "plt.legend(loc='best')\n",
        "plt.show()"
      ],
      "execution_count": null,
      "outputs": [
        {
          "output_type": "display_data",
          "data": {
            "image/png": "[encoded data removed]",
            "text/plain": [
              "<Figure size 432x288 with 1 Axes>"
            ]
          },
          "metadata": {
            "tags": [],
            "needs_background": "light"
          }
        }
      ]
    }
  ]
}