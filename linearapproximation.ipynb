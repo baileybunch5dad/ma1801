{
  "nbformat": 4,
  "nbformat_minor": 0,
  "metadata": {
    "colab": {
      "name": "linearapproximation.ipynb",
      "provenance": [],
      "authorship_tag": "ABX9TyNZ0yrloqA7QaWQ1m/3kZg9",
      "include_colab_link": true
    },
    "kernelspec": {
      "name": "python3",
      "display_name": "Python 3"
    }
  },
  "cells": [
    {
      "cell_type": "markdown",
      "metadata": {
        "id": "view-in-github",
        "colab_type": "text"
      },
      "source": [
        "<a href=\"https://colab.research.google.com/github/baileybunch5dad/ma1801/blob/main/linearapproximation.ipynb\" target=\"_parent\"><img src=\"https://colab.research.google.com/assets/colab-badge.svg\" alt=\"Open In Colab\"/></a>"
      ]
    },
    {
      "cell_type": "markdown",
      "metadata": {
        "id": "3No-JVmHJpJA"
      },
      "source": [
        "## Linear Approximation\n",
        "\n",
        "$$\n",
        "f(x) \\approx f(x_0) + f^\\prime(x_0)(x-x_0)\n",
        "$$\n",
        "\n",
        "### Example: $f(x)=\\ln x, f^\\prime(x)=\\frac{1}{x}$\n",
        "\n",
        "$$\n",
        "x_0=1, f(1)=\\ln 1=0, f^\\prime(1)=1 \\\\\n",
        "\\ln x \\approx 0 + 1(x-1) \\approx x-1 \\\\\n",
        "$$\n",
        "Noting\n",
        "$$\n",
        "\\begin{aligned}\n",
        "f^\\prime(x_0) &= \\lim_{\\Delta x \\to 0} \\frac{\\Delta f}{\\Delta x} \n",
        "\\\\\n",
        "\\lim_{\\Delta x \\to 0} \\frac{\\Delta f}{\\Delta x} &= f^\\prime(x_0) \n",
        "\\\\\n",
        "\\frac{\\Delta f}{\\Delta x} &\\approx f^\\prime(x_0) \\\\\n",
        "f(x) &\\approx f(0)+f^\\prime(0)x & (x_0=0) \\\\\n",
        "\\end{aligned}\n",
        "$$\n"
      ]
    },
    {
      "cell_type": "code",
      "metadata": {
        "colab": {
          "base_uri": "https://localhost:8080/",
          "height": 269
        },
        "id": "VYS9SxN1MWcK",
        "outputId": "9e5ed5eb-e7d2-491b-9685-c9035fc2bf10"
      },
      "source": [
        "import matplotlib.pyplot as plt\n",
        "import math\n",
        "import numpy as np\n",
        "x = np.linspace(.1,2,100)\n",
        "plt.plot(x,np.log(x),label=r'$\\ln x$')\n",
        "plt.xlim(-2,2)\n",
        "plt.ylim(-2,2)\n",
        "plt.vlines(0,-2,2,color='black')\n",
        "plt.hlines(0,-2,2,color='black')\n",
        "x = np.linspace(-1,2,100)\n",
        "plt.plot(x,x-1,label=r'$1-x$')\n",
        "plt.gca().set_aspect('equal')\n",
        "plt.legend()\n",
        "plt.show()"
      ],
      "execution_count": 12,
      "outputs": [
        {
          "output_type": "display_data",
          "data": {
            "image/png": "[encoded data removed]",
            "text/plain": [
              "<Figure size 432x288 with 1 Axes>"
            ]
          },
          "metadata": {
            "tags": [],
            "needs_background": "light"
          }
        }
      ]
    },
    {
      "cell_type": "markdown",
      "metadata": {
        "id": "VgloTV38QvKR"
      },
      "source": [
        "## Linear Approximation for various functions\n",
        "\n",
        "| f | f' | f(0) | f'(0) | f0+(f'0)x |\n",
        "| ---    | ---           | ---        | --- | --- |\n",
        "| $\\sin$ | $\\cos$        | 0 | 1 | $x$ |\n",
        "| $\\cos$ | $-\\sin$       | 1 | 0 | $1$ |\n",
        "| $e^x$  | $e^x$ | 1 | 1 | $1+x$ |\n"
      ]
    },
    {
      "cell_type": "code",
      "metadata": {
        "colab": {
          "base_uri": "https://localhost:8080/",
          "height": 158
        },
        "id": "G5DRUjkR7qyr",
        "outputId": "cab81445-04df-4e74-a78b-3a811ba7f8cb"
      },
      "source": [
        "import matplotlib.pyplot as plt\n",
        "import math\n",
        "import numpy as np\n",
        "x = np.linspace(-.9,.9,100)\n",
        "fig, axs = plt.subplots(1, 3)\n",
        "\n",
        "axs[0].plot(x, np.sin(x),label=r'$\\sin x$')\n",
        "axs[0].plot(x,x,label=r'$x$')\n",
        "\n",
        "axs[1].plot(x, np.cos(x),label=r'$\\sin x$')\n",
        "axs[1].plot(x,0*x+1,label=r'$1$')\n",
        "\n",
        "axs[2].plot(x, np.exp(x),label=r'$e^x$')\n",
        "axs[2].plot(x,x+1,label=r'$x+1$')\n",
        "\n",
        "for i in range(3):\n",
        "  axs[i].vlines(0,-2,2,color='black')\n",
        "  axs[i].hlines(0,-2,2,color='black')\n",
        "  axs[i].set_aspect('equal')\n",
        "  axs[i].legend()\n",
        "\n",
        "plt.show()"
      ],
      "execution_count": 9,
      "outputs": [
        {
          "output_type": "display_data",
          "data": {
            "image/png": "[encoded data removed]",
            "text/plain": [
              "<Figure size 432x288 with 3 Axes>"
            ]
          },
          "metadata": {
            "tags": [],
            "needs_background": "light"
          }
        }
      ]
    },
    {
      "cell_type": "markdown",
      "metadata": {
        "id": "vu5vUEqiY8iU"
      },
      "source": [
        "### $\\ln(1+x)$\n",
        "\n",
        "$$\n",
        "\\begin{aligned}\n",
        "f(x) &= \\ln(1+x) \\\\\n",
        "f^\\prime(x) &= \\frac{1}{1+x} \\\\\n",
        "f(0) &= \\ln(1+0) = 0 \\\\\n",
        "f^\\prime(0) &= \\frac{1}{1+0} = 1 \\\\\n",
        "f(x) &\\approx 0 + 1x\n",
        "\\end{aligned}\n",
        "$$\n",
        "\n",
        "### $(1+x)^r$\n",
        "\n",
        "\n",
        "$$\n",
        "\\begin{aligned}\n",
        "f(x) &= (1+x)^r \\\\\n",
        "f^\\prime(x) &= r(1+x)^{r-1} \\\\\n",
        "f(0) &= 1 \\\\\n",
        "f^\\prime(0) &= r(1+0)^{r-1} = r \\\\\n",
        "f(x) &\\approx 1+rx \\\\\n",
        "\\end{aligned}\n",
        "$$"
      ]
    },
    {
      "cell_type": "code",
      "metadata": {
        "colab": {
          "base_uri": "https://localhost:8080/",
          "height": 265
        },
        "id": "eDwNYWq9Y7j9",
        "outputId": "d9cd7137-ba8f-4fba-a1a2-f0200311ca17"
      },
      "source": [
        "import matplotlib.pyplot as plt\n",
        "import math\n",
        "import numpy as np\n",
        "x = np.linspace(-.9,.9,100)\n",
        "fig, axs = plt.subplots(1, 2)\n",
        "\n",
        "axs[0].plot(x, np.log(1+x),label=r'$\\ln(1+x)$')\n",
        "axs[0].plot(x,x,label=r'$x$')\n",
        "\n",
        "r=3\n",
        "axs[1].plot(x, (1+x)**r,label=r'$(1+x)^r, r=3$')\n",
        "axs[1].plot(x,1+r*x,label=r'$1+rx$')\n",
        "\n",
        "\n",
        "for i in range(2):\n",
        "  axs[i].vlines(0,-2,2,color='black')\n",
        "  axs[i].hlines(0,-2,2,color='black')\n",
        "  axs[i].set_aspect('equal')\n",
        "  axs[i].legend()\n",
        "\n",
        "plt.show()"
      ],
      "execution_count": 12,
      "outputs": [
        {
          "output_type": "display_data",
          "data": {
            "image/png": "[encoded data removed]",
            "text/plain": [
              "<Figure size 432x288 with 2 Axes>"
            ]
          },
          "metadata": {
            "tags": [],
            "needs_background": "light"
          }
        }
      ]
    },
    {
      "cell_type": "code",
      "metadata": {
        "colab": {
          "base_uri": "https://localhost:8080/",
          "height": 265
        },
        "id": "W7agfYOA1PSQ",
        "outputId": "bb672a5d-2916-4915-bfc3-43fbeeca2712"
      },
      "source": [
        "import matplotlib.pyplot as plt\n",
        "import numpy as np\n",
        "import math\n",
        "def ff(x): return np.log(1/np.cos(x))\n",
        "def fp(x): return np.tan(x)\n",
        "\n",
        "\n",
        "def dot(x0,y0,hor='center',ver='center'):\n",
        "  plt.scatter(x0,y0, s=10, color='green', marker='o')\n",
        "  txt = \"({:.2f},{:.2f})\".format(x0,y0)\n",
        "  plt.text(x0,y0,txt,ha=hor,va=ver)\n",
        "\n",
        "x = np.linspace(math.pi/3,math.pi/2-.01,200)\n",
        "plt.plot(x,ff(x),label=r'$\\ln \\sec x$')\n",
        "\n",
        "x0=1.4\n",
        "y0=ff(x0)\n",
        "dot(x0,y0,'right','bottom')\n",
        "delta=.2\n",
        "xs = np.array([x0-delta,x0+delta]) \n",
        "# instantaneous slope at x0\n",
        "m = fp(x0)\n",
        "ys = m * (xs-x0) + y0\n",
        "plt.plot(xs,ys,label=r'$\\frac{d}{dx} \\ln \\sec x$')\n",
        "plt.legend()\n",
        "plt.show()"
      ],
      "execution_count": null,
      "outputs": [
        {
          "output_type": "display_data",
          "data": {
            "image/png": "[encoded data removed]",
            "text/plain": [
              "<Figure size 432x288 with 1 Axes>"
            ]
          },
          "metadata": {
            "tags": [],
            "needs_background": "light"
          }
        }
      ]
    }
  ]
}