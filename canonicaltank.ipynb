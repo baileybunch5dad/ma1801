{
  "nbformat": 4,
  "nbformat_minor": 0,
  "metadata": {
    "colab": {
      "name": "canonicaltank.ipynb",
      "provenance": [],
      "authorship_tag": "ABX9TyMNNFncIuQRdAcqjtIBkVM5",
      "include_colab_link": true
    },
    "kernelspec": {
      "name": "python3",
      "display_name": "Python 3"
    }
  },
  "cells": [
    {
      "cell_type": "markdown",
      "metadata": {
        "id": "view-in-github",
        "colab_type": "text"
      },
      "source": [
        "<a href=\"https://colab.research.google.com/github/baileybunch5dad/ma1801/blob/main/canonicaltank.ipynb\" target=\"_parent\"><img src=\"https://colab.research.google.com/assets/colab-badge.svg\" alt=\"Open In Colab\"/></a>"
      ]
    },
    {
      "cell_type": "markdown",
      "metadata": {
        "id": "b7xuFmC8o1VD"
      },
      "source": [
        "A canonical tank with top of radius 4 ft, depth 10 ft, is being filled with water at 2 cu ft/min.\n",
        "\n",
        "How fast is the water rising when it is at a depth of 5 ft\n",
        "\n"
      ]
    },
    {
      "cell_type": "code",
      "metadata": {
        "colab": {
          "base_uri": "https://localhost:8080/",
          "height": 265
        },
        "id": "9RY1tjN0ozD6",
        "outputId": "5f8ad035-a321-4a52-e12c-edd79ef6fd4c"
      },
      "source": [
        "import matplotlib.pyplot as plt\n",
        "import numpy as np\n",
        "from math import pi\n",
        "\n",
        "plt.plot([-4,0,4],[10,0,10])\n",
        "\n",
        "\n",
        "\n",
        "\n",
        "u=0.     #x-position of the center\n",
        "v=10    #y-position of the center\n",
        "a=4.     #radius on the x-axis\n",
        "b=2    #radius on the y-axis\n",
        "\n",
        "t = np.linspace(0, 2*pi, 100)\n",
        "plt.plot( u+a*np.cos(t) , v+b*np.sin(t) )\n",
        "plt.grid(color='lightgray',linestyle='--')\n",
        "\n",
        "u=0\n",
        "v=5\n",
        "a=5*np.sin(np.arctan(4/10))\n",
        "b=1\n",
        "\n",
        "#plt.plot([-s,s],[5,5])\n",
        "t = np.linspace(0, 2*pi, 100)\n",
        "plt.plot( u+a*np.cos(t) , v+b*np.sin(t) )\n",
        "#plt.grid(color='lightgray',linestyle='--')\n",
        "\n",
        "plt.plot([4,4],[0,10])\n",
        "plt.text(4.2,5,'10')\n",
        "plt.plot([0,4],[10,10])\n",
        "plt.text(2,10.5,'4')\n",
        "plt.gca().set_aspect('equal')\n",
        "plt.show()"
      ],
      "execution_count": 25,
      "outputs": [
        {
          "output_type": "display_data",
          "data": {
            "image/png": "[encoded data removed]",
            "text/plain": [
              "<Figure size 432x288 with 1 Axes>"
            ]
          },
          "metadata": {
            "tags": [],
            "needs_background": "light"
          }
        }
      ]
    },
    {
      "cell_type": "markdown",
      "metadata": {
        "id": "OkV387X_wsLr"
      },
      "source": [
        "As water rises, ratio of current radiu to current height remains 4/10, so\n",
        "$$\n",
        "\\frac{r}{h} = \\frac{4}{10}\n",
        "$$ \n",
        "Volume of a cone is 1/3 base times height, so\n",
        "$$\n",
        "V = \\frac{1}{3} \\pi r^2 \\cdot h\n",
        "$$\n",
        "Since volume is increasing at 2 cu ft per min\n",
        "$$\n",
        "\\frac{dV}{dt} = 2 \\quad \\text{f}^3/\\ text{m}\n",
        "$$\n",
        "Question: What is $\\frac{dh}{dt}$ when $h$ is 5\n",
        "\n",
        "The instantaneous $r$ at $h=5$ is $r\\frac{4}{10}h$ so $h=5$\n",
        "$$\n",
        "\\begin{aligned}\n",
        "\\frac{d}{dt} V &= \\frac {d}{dt} \\left( \\frac{1}{3} \\pi r^2 h \\right)  \\\\\n",
        "&= \\frac {d}{dt} \\left( \\frac{1}{3} \\pi \\left( \\frac{2}{5} h \\right) ^2 h \\right)  \\\\\n",
        "\\frac{dV}{dt} &= \\frac{1}{3} \\frac{2}{5} \\frac{2}{5} \\pi \\frac{d}{dt} h^3 \\\\\n",
        "2 &= \\frac{1}{3} \\frac{2}{5} \\frac{2}{5} \\pi 3h^2 \\frac{dh}{dt} \\\\\n",
        "2 &= \\frac{1}{3} \\frac{2}{5} \\frac{2}{5} \\pi 3\\cdot 5^2 \\frac{dh}{dt} \\\\\n",
        "2 \\frac{3}{1} \\frac{5}{2} \\frac{5}{2} \\frac{1}{\\pi} \\frac{1}{3} \\frac{1}{5}\\frac{1}{5} &= \\frac{dh}{dt} \\\\\n",
        "\\frac{dh}{dt} &= \\frac{1}{2\\pi} \\\\   \n",
        "\\end{aligned}\n",
        "$$"
      ]
    },
    {
      "cell_type": "markdown",
      "metadata": {
        "id": "K_CHMRFkqXbN"
      },
      "source": [
        ""
      ]
    }
  ]
}