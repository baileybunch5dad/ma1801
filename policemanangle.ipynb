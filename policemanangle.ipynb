{
  "nbformat": 4,
  "nbformat_minor": 0,
  "metadata": {
    "colab": {
      "name": "policemanangle.ipynb",
      "provenance": [],
      "authorship_tag": "ABX9TyNmxpcxBpEn0fkK8tyjKZaj",
      "include_colab_link": true
    },
    "kernelspec": {
      "name": "python3",
      "display_name": "Python 3"
    }
  },
  "cells": [
    {
      "cell_type": "markdown",
      "metadata": {
        "id": "view-in-github",
        "colab_type": "text"
      },
      "source": [
        "<a href=\"https://colab.research.google.com/github/baileybunch5dad/ma1801/blob/main/policemanangle.ipynb\" target=\"_parent\"><img src=\"https://colab.research.google.com/assets/colab-badge.svg\" alt=\"Open In Colab\"/></a>"
      ]
    },
    {
      "cell_type": "markdown",
      "metadata": {
        "id": "rUq9bHCneMst"
      },
      "source": [
        "## Policeman Angle\n",
        "\n",
        "The police, 30 feet from road, at 50 feet away on the tangent, shows a rate of speed of 80 f/s\n",
        "\n",
        "What is the rate of speed on the highway $x$\n"
      ]
    },
    {
      "cell_type": "code",
      "metadata": {
        "colab": {
          "base_uri": "https://localhost:8080/",
          "height": 269
        },
        "id": "5x4ToXodee1l",
        "outputId": "fe3cdd1e-4a68-4924-95b4-2e5b47ded5f8"
      },
      "source": [
        "import matplotlib.pyplot as plt\n",
        "import numpy as np\n",
        "plt.plot([0,0,50,0],[0,30,0,0])\n",
        "plt.xlim(-5,55)\n",
        "plt.ylim(-5,35)\n",
        "plt.text(20,-2,'40=x')\n",
        "plt.text(-3,15,'30')\n",
        "plt.text(22,17,'50=D')\n",
        "theta=np.rad2deg(np.arcsin(3/5))\n",
        "plt.text(30,7,'speed=80 f/s',rotation=-theta)\n",
        "plt.gca().set_aspect('equal')\n",
        "plt.show()"
      ],
      "execution_count": 18,
      "outputs": [
        {
          "output_type": "display_data",
          "data": {
            "image/png": "[encoded data removed]",
            "text/plain": [
              "<Figure size 432x288 with 1 Axes>"
            ]
          },
          "metadata": {
            "tags": [],
            "needs_background": "light"
          }
        }
      ]
    },
    {
      "cell_type": "markdown",
      "metadata": {
        "id": "aeXglOEijiHX"
      },
      "source": [
        "$$\n",
        "\\begin{aligned}\n",
        "\\frac{dD}{dt}&=80\\\\\n",
        "x^2+30^2&=D^2\\\\\n",
        "\\frac{d}{dt} \\left( x^2+30^2 \\right) &= \\frac{d}{dt} D^2 \\\\\n",
        "2x\\cdot x^{\\prime} &= 2D \\cdot D^\\prime \\\\\n",
        "x^\\prime &= \\frac{D}{x} D^\\prime \\\\\n",
        "x^\\prime &= \\frac{50}{40} 80 = 100 \\text{ feet/second} \\\\\n",
        "\\end{aligned}\n",
        "$$"
      ]
    },
    {
      "cell_type": "code",
      "metadata": {
        "colab": {
          "base_uri": "https://localhost:8080/"
        },
        "id": "7Gl3HeJCeJuX",
        "outputId": "49353795-0bcd-4902-d565-973483622dcf"
      },
      "source": [
        "# show angles in degrees of 3,4,5 triangle\n",
        "import numpy as np\n",
        "theta=np.rad2deg(np.arcsin(3/5))\n",
        "print(90,theta,90-theta)"
      ],
      "execution_count": 11,
      "outputs": [
        {
          "output_type": "stream",
          "text": [
            "90 36.86989764584402 53.13010235415598\n"
          ],
          "name": "stdout"
        }
      ]
    }
  ]
}