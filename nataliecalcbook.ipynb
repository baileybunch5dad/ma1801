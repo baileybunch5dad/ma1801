{
  "nbformat": 4,
  "nbformat_minor": 0,
  "metadata": {
    "colab": {
      "name": "nataliecalcbook.ipynb",
      "provenance": [],
      "collapsed_sections": [],
      "authorship_tag": "ABX9TyPNX3DgRmC27fybNBFwBQUQ",
      "include_colab_link": true
    },
    "kernelspec": {
      "name": "python3",
      "display_name": "Python 3"
    }
  },
  "cells": [
    {
      "cell_type": "markdown",
      "metadata": {
        "id": "view-in-github",
        "colab_type": "text"
      },
      "source": [
        "<a href=\"https://colab.research.google.com/github/baileybunch5dad/ma1801/blob/main/nataliecalcbook.ipynb\" target=\"_parent\"><img src=\"https://colab.research.google.com/assets/colab-badge.svg\" alt=\"Open In Colab\"/></a>"
      ]
    },
    {
      "cell_type": "markdown",
      "metadata": {
        "id": "RcCNhOdfekVh"
      },
      "source": [
        "# When Natalie threw her calculus book out of her bedroom window\r\n",
        "\r\n",
        "##### Then used calculus to figure out the height of the window and speed of the book as it hit the ground\r\n",
        "\r\n",
        "$$\r\n",
        "\\begin{aligned}\r\n",
        "\\text{Time is known} & \\\\\r\n",
        "\\text{Velocity} &= \\text{Gravity}\\cdot\\text{Time} \\\\\r\n",
        "\\text{Height} &= \\frac{\\text{Gravity} \\cdot \\text{Time}^2}{2} \\\\\r\n",
        "\\text{Height is known} & \\\\\r\n",
        "\\text{Time} &= \\sqrt{\\frac{2\\cdot\\text{Height}}{\\text{Gravity}}}\\\\\r\n",
        "\\text{Velocity} &= \\sqrt{2\\cdot\\text{Height}\\cdot \\text{Gravity}} \\\\\r\n",
        "\\end{aligned}\r\n",
        "$$\r\n",
        "\r\n",
        "With a guess of 15 feet as the height and a starting velocity of 0 (she held it and dropped it) \r\n",
        "\r\n",
        "$$\r\n",
        "\\begin{aligned}\r\n",
        "\\text{Time} &= \\sqrt{\\frac{2 \\cdot 15\\text{ft}}{32 \\frac{\\text{ft}}{\\text{sec}^2}} } = .968 \\text{ sec}\\\\\r\n",
        "\\text{Velocity} &= \\sqrt{2 \\cdot 15 \\text{ft} \\cdot 32 \\frac{\\text{ft}}{\\text{sec}^2}} = 30.98 \\frac{\\text{ft}}{\\text{sec}}\r\n",
        "\\end{aligned}\r\n",
        "$$\r\n"
      ]
    },
    {
      "cell_type": "code",
      "metadata": {
        "colab": {
          "base_uri": "https://localhost:8080/",
          "height": 279
        },
        "id": "cdN2NLGcaYS3",
        "outputId": "8ee4ce7b-4bf4-4916-bf5c-5f58a4b13546"
      },
      "source": [
        "import matplotlib.pyplot as plt\r\n",
        "import numpy as np\r\n",
        "\r\n",
        "h=15\r\n",
        "g=32\r\n",
        "v=np.sqrt(2*h*g)\r\n",
        "t = np.sqrt(2*h/g)\r\n",
        "\r\n",
        "fig, axs = plt.subplots(1,2)\r\n",
        "height = np.linspace(0,30,100) # take 100 points from 0 to 30 feet\r\n",
        "time = np.sqrt(2*height/g)\r\n",
        "velocity = np.sqrt(2*height*g)\r\n",
        "\r\n",
        "axs[0].plot(time,height)\r\n",
        "axs[0].set_xlabel('Seconds s')\r\n",
        "axs[0].set_ylabel('Height f')\r\n",
        "axs[0].plot([t,t,0],[0,h,h])\r\n",
        "\r\n",
        "axs[1].plot(time, velocity)\r\n",
        "axs[1].set_xlabel('Seconds s')\r\n",
        "axs[1].set_ylabel('Velocity f/s')\r\n",
        "axs[1].yaxis.set_label_position(\"right\")\r\n",
        "axs[1].plot([t,t,0],[0,v,v])\r\n",
        "\r\n",
        "plt.show()"
      ],
      "execution_count": 26,
      "outputs": [
        {
          "output_type": "display_data",
          "data": {
            "image/png": "[encoded data removed]",
            "text/plain": [
              "<Figure size 432x288 with 2 Axes>"
            ]
          },
          "metadata": {
            "tags": [],
            "needs_background": "light"
          }
        }
      ]
    }
  ]
}