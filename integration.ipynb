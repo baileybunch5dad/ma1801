{
  "nbformat": 4,
  "nbformat_minor": 0,
  "metadata": {
    "colab": {
      "name": "integration.ipynb",
      "provenance": [],
      "authorship_tag": "ABX9TyOPFk00hWgIRHOReKiZfImT",
      "include_colab_link": true
    },
    "kernelspec": {
      "name": "python3",
      "display_name": "Python 3"
    }
  },
  "cells": [
    {
      "cell_type": "markdown",
      "metadata": {
        "id": "view-in-github",
        "colab_type": "text"
      },
      "source": [
        "<a href=\"https://colab.research.google.com/github/baileybunch5dad/ma1801/blob/main/integration.ipynb\" target=\"_parent\"><img src=\"https://colab.research.google.com/assets/colab-badge.svg\" alt=\"Open In Colab\"/></a>"
      ]
    },
    {
      "cell_type": "code",
      "metadata": {
        "id": "OhD_wf6Ejq4x"
      },
      "source": [
        ""
      ],
      "execution_count": null,
      "outputs": []
    },
    {
      "cell_type": "markdown",
      "metadata": {
        "id": "GVGozUPajtzC"
      },
      "source": [
        "### Differentials\n",
        "$$\n",
        "\\begin{aligned}\n",
        "y &= f(x) \\\\\n",
        "\\text{Differential of $y$: }dy &= f^\\prime(x)dx \\Longleftrightarrow \\frac{dy}{dx} = f^\\prime(x) \\\\\n",
        "\\text{Also called differential of }f & \\\\ \n",
        "\\end{aligned}\n",
        "$$\n",
        "Leibniz interpretation of derivative as a ratio of infinitesimals\n",
        "\n",
        "For symbols use $dy$ for $\\Delta y$ and use $dx$ for $\\Delta x$\n",
        "\n",
        "### Example Find $(64.1)^{\\frac{1}{3}}$\n",
        "\n",
        "Using the linear tangent line\n",
        "\n",
        "$$\n",
        "\\begin{aligned}\n",
        "y &= x^{1/3} \\\\\n",
        "dy &= \\frac{1}{3}x^{-\\frac{2}{3}} dx \\\\\n",
        "At x&=64, y=64^{\\frac{1}{3}} = 4 \\\\\n",
        "dy &= \\frac{1}{3} (64)^{-\\frac{2}{3}}dx \\\\\n",
        "&= \\frac{1}{3} \\frac{1}{16} dx = \\frac{1}{48} dx \\\\\n",
        "x &= 64, x + dx = 64.1 \\implies dx = \\frac{1}{10} \\\\\n",
        "(64.1)^{\\frac{1}{3}} &\\approx y \\quad dy=\\frac{1}{49}dx \\\\\n",
        "&\\approx y + dy = 4 + \\frac{1}{48}dx = 4 + \\frac{1}{480} & dx=\\frac{1}{10} \\\\\n",
        "&\\approx 4.002 \\\\\n",
        "\\end{aligned}\n",
        "$$\n",
        "\n",
        "#### Comparing to previous notation\n",
        "\n",
        "$$\n",
        "\\begin{aligned}\n",
        "f(x) &\\approx f(a) + f^\\prime(a) (x-a) \\\\\n",
        "a &= 64, f(x) = x^{\\frac{1}{3}} \\\\\n",
        "f(a)&=f(64)=4 \\\\\n",
        "f^\\prime(a) &= \\frac{1}{3} a^{-\\frac{2}{23}} = \\frac{1}{48} \\\\\n",
        "x^{\\frac{1}{3}} &\\approx 4 + \\frac{1}{48}(x-64) \\\\\n",
        "(64.1)^{\\frac{1}{3}} &\\approx 4 + \\frac{1}{48}(64.1-64) = 4+\\frac{1}{480} \\\\\n",
        "\\end{aligned}\n",
        "$$"
      ]
    },
    {
      "cell_type": "code",
      "metadata": {
        "colab": {
          "base_uri": "https://localhost:8080/"
        },
        "id": "Tqoys65IuTxm",
        "outputId": "cacf0463-c39a-4483-cd1a-7d1f4693e8e1"
      },
      "source": [
        "import numpy as np\n",
        "print(np.power(64.1,1/3))\n",
        "print(4+1/480)"
      ],
      "execution_count": 3,
      "outputs": [
        {
          "output_type": "stream",
          "text": [
            "4.002082249204809\n",
            "4.002083333333333\n"
          ],
          "name": "stdout"
        }
      ]
    },
    {
      "cell_type": "markdown",
      "metadata": {
        "id": "dMFjzuLpu7T0"
      },
      "source": [
        "## Antiderivative\n",
        "\n",
        "$$\n",
        "G(x) = \\int g(x) \\quad \\quad G\\text{ is antiderivative of }g\\text{ also called the indefinite integral of }g\n",
        "$$\n",
        "\n",
        "### Examples\n",
        "\n",
        "#### $\\int \\sin x = -\\cos x, \\quad G(x)=-\\cos x+c, \\quad G^\\prime(x)=g(x)=\\sin x$\n",
        "\n",
        "Integral is indefinite because constant $c$ can take any value\n",
        "\n",
        "#### $\\int x^a dx, \\quad G(x) = \\frac{x^{a+1}}{a+1}+c, \\quad a \\ne -1$ \n",
        "\n",
        "$$\n",
        "d(x^{a+1}) = (a+1)x^a dx \n",
        "$$\n",
        "\n",
        "### $\\int \\frac{dx}{x}, \\quad G(x) = ( \\ln |x| ) + c$\n",
        "\n",
        "Check $x \\lt 0$\n",
        "\n",
        "$$\n",
        "\\begin{aligned}\n",
        "\\frac{d}{dx} \\ln|x| &= \\frac{d}{dx} \\ln (-x) \\\\\n",
        "&= \\frac{1}{-x} \\frac{d}{dx} (-x) & \\text{chain rule} \\\\\n",
        "&= \\frac{1}{x} \\\\\n",
        "\\end{aligned}\n",
        "$$"
      ]
    },
    {
      "cell_type": "code",
      "metadata": {
        "colab": {
          "base_uri": "https://localhost:8080/",
          "height": 248
        },
        "id": "pSfMX75v12mx",
        "outputId": "323ae090-527b-4129-c37f-bbbc62b2a8ef"
      },
      "source": [
        "import matplotlib.pyplot as plt\n",
        "import numpy as np\n",
        "x = np.linspace(-5,-.1,100)\n",
        "def fx(x): return np.log(-x)\n",
        "\n",
        "fig, ax = plt.subplots()\n",
        "\n",
        "ax.spines['right'].set_color('none')\n",
        "ax.spines['top'].set_color('none')\n",
        "\n",
        "ax.xaxis.set_ticks_position('bottom')\n",
        "ax.spines['bottom'].set_position(('data',0)) # set position of x spine to x=0\n",
        "\n",
        "ax.yaxis.set_ticks_position('left')\n",
        "ax.spines['left'].set_position(('data',0))   # set position of y spine to y=0\n",
        "\n",
        "ax.plot(x, fx(x))\n",
        "\n",
        "plt.gca().set_aspect('equal')\n",
        "plt.show()"
      ],
      "execution_count": 11,
      "outputs": [
        {
          "output_type": "display_data",
          "data": {
            "image/png": "[encoded data removed]",
            "text/plain": [
              "<Figure size 432x288 with 1 Axes>"
            ]
          },
          "metadata": {
            "tags": [],
            "needs_background": "light"
          }
        }
      ]
    },
    {
      "cell_type": "markdown",
      "metadata": {
        "id": "j5pYzzvD4lZQ"
      },
      "source": [
        "### $\\int \\sec^2 x dx = \\tan x + c$\n",
        "\n",
        "\n",
        "### $\\int \\frac{dx}{ \\sqrt{1-x^2} } = \\sin^{-1}x + c$\n",
        "\n",
        "### $\\int \\frac{dx}{1+x^2} = \\tan^{-1} x + c$"
      ]
    },
    {
      "cell_type": "markdown",
      "metadata": {
        "id": "MPAJDxHx5ej9"
      },
      "source": [
        "### Uniqueness of antiderivative up to a constant\n",
        "\n",
        "Theorem: If $F^\\prime = G^\\prime$ then $F=G+c$\n",
        "\n",
        "Proof:\n",
        "\n",
        "If $F^\\prime=G^\\prime$ then $(F-G)^\\prime=F^\\prime-G^\\prime$ hence $F(x)-G(x)=c$, where $c$ is a constant $F^\\prime(x)=G^\\prime(x) \\Longleftrightarrow F(x)=G(x)+c$"
      ]
    },
    {
      "cell_type": "markdown",
      "metadata": {
        "id": "R1AvnvGs69V1"
      },
      "source": [
        "### Examples of more complex integrals\n",
        "\n",
        "#### $\\int x^3(x^4+2)^5dx$\n",
        "\n",
        "#### Method of substitution\n",
        "\n",
        "$$\n",
        "\\begin{aligned}\n",
        "\\int x^3(x^4+2)^5 dx &= \\int (x^4+2)^5 x^3 dx \\\\\n",
        "u &= x^4+2 \\\\\n",
        "du &= 4x^3 dx \\\\\n",
        "\\int (x^4+2)^5 x^3 dx &= \\int u^5 \\frac{1}{4} du \\\\\n",
        "&= \\frac{1}{4} \\frac{1}{6} u^6 + c \\\\\n",
        "&= \\frac{1}{24} (x^4+2)^6 + c \\\\\n",
        "\\end{aligned}\n",
        "$$"
      ]
    },
    {
      "cell_type": "markdown",
      "metadata": {
        "id": "L6xiWJ2D-CCb"
      },
      "source": [
        "### $\\int \\frac{xdx}{\\sqrt{1+x^2}}$\n",
        "\n",
        "$$\n",
        "\\begin{aligned}\n",
        "\\int \\frac{xdx}{\\sqrt{1+x^2}} &= \\int (1+x^2)^{-\\frac{1}{2}} x dx \\\\\n",
        "u &= 1+x^2 \\\\\n",
        "du &= 2xdx \\\\\n",
        "&= \\int u^{-\\frac{1}{2}} \\frac{1}{2} du \\\\\n",
        "&= \\frac{1}{\\frac{1}{2}} u^{\\frac{1}{2}} \\frac{1}{2} + c \\\\\n",
        "&=  \\sqrt{1+x^2} + c \\\\\n",
        "\\end{aligned}\n",
        "$$"
      ]
    },
    {
      "cell_type": "markdown",
      "metadata": {
        "id": "Kx-36hOoDXov"
      },
      "source": [
        "### $\\int \\sin x \\cos x dx$\n",
        "\n",
        "$$\n",
        "\\int \\sin x \\cos x dx = \\frac{1}{2} \\sin^2 x + c\n",
        "$$\n",
        "\n",
        "But\n",
        "\n",
        "$$\n",
        "\\int \\sin x \\cos x dx = -\\frac{1}{2} \\cos^2 x + c\n",
        "$$\n",
        "\n",
        "Subtracting the two\n",
        "\n",
        "$$\n",
        "\\frac{1}{2} \\sin^2 x - (-\\frac{1}{2} \\cos^2 x) = \\frac{1}{2} = \\text{a constant}\n",
        "$$"
      ]
    },
    {
      "cell_type": "markdown",
      "metadata": {
        "id": "tsV6O6WkGWEn"
      },
      "source": [
        "### $\\int \\frac{dx}{x \\ln x}$\n",
        "\n",
        " $$\n",
        " \\begin{aligned}\n",
        " \\int \\frac{dx}{x \\ln x} &= \\int \\frac{1}{x} (\\ln x)^{-1} dx \\\\\n",
        " u &= \\ln x \\\\\n",
        " du &= \\frac{1}{x} dx \\\\\n",
        "\\int u^{-1} du &= \\frac{du}{u} = \\ln | u |+ c \\\\\n",
        "&= \\ln | \\ln x | + c \\\\\n",
        " \\end{aligned}\n",
        " $$"
      ]
    },
    {
      "cell_type": "code",
      "metadata": {
        "colab": {
          "base_uri": "https://localhost:8080/",
          "height": 248
        },
        "id": "RiYhNZ8c3KP6",
        "outputId": "b9a608b4-8d4b-47af-c4e1-34b1fe4ea079"
      },
      "source": [
        "fig, ax = plt.subplots()\n",
        "\n",
        "ax.spines['right'].set_color('none')\n",
        "ax.spines['top'].set_color('none')\n",
        "\n",
        "ax.xaxis.set_ticks_position('bottom')\n",
        "ax.spines['bottom'].set_position(('data',0)) # set position of x spine to x=0\n",
        "\n",
        "ax.yaxis.set_ticks_position('left')\n",
        "ax.spines['left'].set_position(('data',0))   # set position of y spine to y=0\n",
        "\n",
        "xx = np.linspace(-0.75, 1., 100)\n",
        "ax.plot(xx, xx**3);"
      ],
      "execution_count": 8,
      "outputs": [
        {
          "output_type": "display_data",
          "data": {
            "image/png": "[encoded data removed]",
            "text/plain": [
              "<Figure size 432x288 with 1 Axes>"
            ]
          },
          "metadata": {
            "tags": [],
            "needs_background": "light"
          }
        }
      ]
    },
    {
      "cell_type": "markdown",
      "metadata": {
        "id": "l79WuN-yuR7E"
      },
      "source": [
        ""
      ]
    }
  ]
}