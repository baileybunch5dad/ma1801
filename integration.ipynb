{
  "nbformat": 4,
  "nbformat_minor": 0,
  "metadata": {
    "colab": {
      "name": "integration.ipynb",
      "provenance": [],
      "authorship_tag": "ABX9TyNS+pyiSdGawcSkulFFueAY",
      "include_colab_link": true
    },
    "kernelspec": {
      "name": "python3",
      "display_name": "Python 3"
    }
  },
  "cells": [
    {
      "cell_type": "markdown",
      "metadata": {
        "id": "view-in-github",
        "colab_type": "text"
      },
      "source": [
        "<a href=\"https://colab.research.google.com/github/baileybunch5dad/ma1801/blob/main/integration.ipynb\" target=\"_parent\"><img src=\"https://colab.research.google.com/assets/colab-badge.svg\" alt=\"Open In Colab\"/></a>"
      ]
    },
    {
      "cell_type": "code",
      "metadata": {
        "id": "OhD_wf6Ejq4x"
      },
      "source": [
        ""
      ],
      "execution_count": null,
      "outputs": []
    },
    {
      "cell_type": "markdown",
      "metadata": {
        "id": "GVGozUPajtzC"
      },
      "source": [
        "### Differentials\n",
        "$$\n",
        "\\begin{aligned}\n",
        "y &= f(x) \\\\\n",
        "\\text{Differential of $y$: }dy &= f^\\prime(x)dx \\Longleftrightarrow \\frac{dy}{dx} = f^\\prime(x) \\\\\n",
        "\\text{Also called differential of }f & \\\\ \n",
        "\\end{aligned}\n",
        "$$\n",
        "Leibniz interpretation of derivative as a ratio of infinitesimals\n",
        "\n",
        "For symbols use $dy$ for $\\Delta y$ and use $dx$ for $\\Delta x$\n",
        "\n",
        "### Example Find $(64.1)^{\\frac{1}{3}}$\n",
        "\n",
        "Using the linear tangent line\n",
        "\n",
        "$$\n",
        "\\begin{aligned}\n",
        "y &= x^{1/3} \\\\\n",
        "dy &= \\frac{1}{3}x^{-\\frac{2}{3}} dx \\\\\n",
        "At x&=64, y=64^{\\frac{1}{3}} = 4 \\\\\n",
        "dy &= \\frac{1}{3} (64)^{-\\frac{2}{3}}dx \\\\\n",
        "&= \\frac{1}{3} \\frac{1}{16} dx = \\frac{1}{48} dx \\\\\n",
        "x &= 64, x + dx = 64.1 \\implies dx = \\frac{1}{10} \\\\\n",
        "(64.1)^{\\frac{1}{3}} &\\approx y \\quad dy=\\frac{1}{49}dx \\\\\n",
        "&\\approx y + dy = 4 + \\frac{1}{48}dx = 4 + \\frac{1}{480} & dx=\\frac{1}{10} \\\\\n",
        "&\\approx 4.002 \\\\\n",
        "\\end{aligned}\n",
        "$$\n",
        "\n",
        "#### Comparing to previous notation\n",
        "\n",
        "$$\n",
        "\\begin{aligned}\n",
        "\\end{aligned}\n",
        "$$"
      ]
    }
  ]
}