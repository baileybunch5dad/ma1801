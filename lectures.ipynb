{
  "nbformat": 4,
  "nbformat_minor": 0,
  "metadata": {
    "colab": {
      "name": "lectures.ipynb",
      "provenance": [],
      "collapsed_sections": [],
      "authorship_tag": "ABX9TyOPjZUhsJK3d4xQ8B5TtBXB",
      "include_colab_link": true
    },
    "kernelspec": {
      "name": "python3",
      "display_name": "Python 3"
    }
  },
  "cells": [
    {
      "cell_type": "markdown",
      "metadata": {
        "id": "view-in-github",
        "colab_type": "text"
      },
      "source": [
        "<a href=\"https://colab.research.google.com/github/baileybunch5dad/ma1801/blob/main/lectures.ipynb\" target=\"_parent\"><img src=\"https://colab.research.google.com/assets/colab-badge.svg\" alt=\"Open In Colab\"/></a>"
      ]
    },
    {
      "cell_type": "markdown",
      "metadata": {
        "id": "fySD-lEqULqk"
      },
      "source": [
        "# MIT 18.01\r\n",
        "\r\n",
        "# Derivatives\r\n",
        "\r\n",
        "$$\r\n",
        "\\frac{d}{dx} f(x) = f^\\prime(x) = \\frac{df}{dx} = \\lim_{\\Delta x \\to 0}\\frac{f(x + \\Delta x)-f(x)}{(x + \\Delta x) - x} = \\lim_{\\Delta x \\to 0}\\frac{f(x + \\Delta x)-f(x)}{\\Delta x} \r\n",
        "$$"
      ]
    },
    {
      "cell_type": "markdown",
      "metadata": {
        "id": "UiPtKg2TdPGz"
      },
      "source": [
        "## Prove $\\frac{d}{dx} \\frac{1}{x} = -\\frac{1}{x^2}$\r\n",
        "\r\n",
        "Proof\r\n",
        "\r\n",
        "$$\r\n",
        "\\begin{aligned}\r\n",
        "\\frac{d}{dx} \\frac{1}{x} &= \\lim_{\\Delta x \\to 0} \\frac{\\frac{1}{x + \\Delta x}-\\frac{1}{x}}{\\Delta x} \\\\\r\n",
        "&= \\lim_{\\Delta x \\to 0} \\frac{1}{\\Delta x} \\left( \\frac{x - (x+\\Delta x)}{x(x+\\Delta x)} \\right) \\\\\r\n",
        "&= \\lim_{\\Delta x \\to 0}\\frac{1}{\\Delta x} \\left( \\frac{-\\Delta x}{x(x+\\Delta x)} \\right) \\\\\r\n",
        "&=  \\lim_{\\Delta x \\to 0} \\frac{-1}{x(x+\\Delta x)} \\\\\r\n",
        "&=   -\\frac{1}{x^2} \\\\\r\n",
        "\\end{aligned}\r\n",
        "$$\r\n"
      ]
    },
    {
      "cell_type": "markdown",
      "metadata": {
        "id": "vNaZOslgoUFd"
      },
      "source": [
        "\n",
        "## Prove $\\frac{d}{dx}\\sin x = cos x$\n",
        "\n",
        "\n",
        "Given: \n",
        "$$\n",
        "\\begin{aligned}\n",
        "\\sin (a+b)&=\\sin a \\cos b + \\cos a \\sin b \\\\\n",
        "\\lim_{x \\to 0} \\frac{\\cos x - 1}{x} &= 0 \\\\\n",
        "\\lim_{x \\to 0} \\frac{\\sin x }{x} &= 1 \\\\\n",
        "\\end{aligned}\n",
        "$$\n",
        "\n",
        "Proof (derivation)\n",
        "\n",
        "$$\n",
        "\\begin{aligned}\n",
        "\\frac{d}{dx} \\sin (x) &= \\lim_{\\Delta x \\to 0} \\frac{\\sin (x + \\Delta x) - \\sin(x)}{\\Delta x}  \\\\\n",
        "&= \\lim_{\\Delta x \\to 0} \\frac{(\\sin x \\cos \\Delta x + \\cos x \\sin \\Delta x) - \\sin x}{\\Delta x}  \\\\\n",
        "&= \\lim_{\\Delta x \\to 0} \\left( \\sin x \\left( \\frac{\\cos \\Delta x - 1}{\\Delta x} \\right) + \\cos x \\left( \\frac{\\sin \\Delta x}{\\Delta x} \\right) \\right) \\\\\n",
        "&= \\sin x \\left( \\lim_{\\Delta x \\to 0}   \\left( \\frac{\\cos \\Delta x - 1}{\\Delta x} \\right) \\right) + \\cos x \\left( \\lim_{\\Delta x \\to 0} \\left( \\frac{\\sin \\Delta x}{\\Delta x} \\right) \\right) \\\\\n",
        "&= \\cos x\n",
        "\\end{aligned}\n",
        "$$\n"
      ]
    },
    {
      "cell_type": "markdown",
      "metadata": {
        "id": "6gm4fAUMUVIE"
      },
      "source": [
        "### Validate with empirical evidence for multiple $x$ values slowly shrinking $\\Delta x$ "
      ]
    },
    {
      "cell_type": "code",
      "metadata": {
        "colab": {
          "base_uri": "https://localhost:8080/"
        },
        "id": "ZJzXyKCYFqsj",
        "outputId": "a6cb582f-ebad-4f77-dcd6-cbefa0810b5a"
      },
      "source": [
        "import math\r\n",
        "import pandas as pd\r\n",
        "import numpy as np\r\n",
        "df = pd.DataFrame(data=None,columns=[\"Delta X\",\"Limit\",\"Derivative\",\"Difference\"])\r\n",
        "xvals=[math.pi/3, math.pi/7]\r\n",
        "for ix, x in zip(range(len(xvals)), xvals):\r\n",
        "  print(\"Demonstrate Trying to converge sin(x) for x =\",x)\r\n",
        "  dxvals=[10**(-p) for p in range(1, 13)]\r\n",
        "  for idx, dx in zip(range(len(dxvals)), dxvals):\r\n",
        "    limitValue=(math.sin(x+dx)-math.sin(x))/dx\r\n",
        "    derivativeValue=math.cos(x)\r\n",
        "    difference=abs(limitValue-derivativeValue)\r\n",
        "    df.loc[idx+1] = np.array([dx,limitValue,derivativeValue,difference])\r\n",
        "  print(df)"
      ],
      "execution_count": null,
      "outputs": [
        {
          "output_type": "stream",
          "text": [
            "0 Trying to converge sin(x) for x = 1.0471975511965976\n",
            "         Delta X     Limit  Derivative    Difference\n",
            "1   1.000000e-01  0.455902         0.5  4.409811e-02\n",
            "2   1.000000e-02  0.495662         0.5  4.338424e-03\n",
            "3   1.000000e-03  0.499567         0.5  4.330960e-04\n",
            "4   1.000000e-04  0.499957         0.5  4.330210e-05\n",
            "5   1.000000e-05  0.499996         0.5  4.330133e-06\n",
            "6   1.000000e-06  0.500000         0.5  4.330281e-07\n",
            "7   1.000000e-07  0.500000         0.5  4.300676e-08\n",
            "8   1.000000e-08  0.500000         0.5  3.038736e-09\n",
            "9   1.000000e-09  0.500000         0.5  4.137019e-08\n",
            "10  1.000000e-10  0.500000         0.5  4.137019e-08\n",
            "11  1.000000e-11  0.500000         0.5  4.137019e-08\n",
            "12  1.000000e-12  0.500044         0.5  4.445029e-05\n",
            "1 Trying to converge sin(x) for x = 0.4487989505128276\n",
            "         Delta X     Limit  Derivative    Difference\n",
            "1   1.000000e-01  0.877792    0.900969  2.317698e-02\n",
            "2   1.000000e-02  0.898784    0.900969  2.184417e-03\n",
            "3   1.000000e-03  0.900752    0.900969  2.170920e-04\n",
            "4   1.000000e-04  0.900947    0.900969  2.169569e-05\n",
            "5   1.000000e-05  0.900967    0.900969  2.169433e-06\n",
            "6   1.000000e-06  0.900969    0.900969  2.169948e-07\n",
            "7   1.000000e-07  0.900969    0.900969  2.170658e-08\n",
            "8   1.000000e-08  0.900969    0.900969  1.722567e-09\n",
            "9   1.000000e-09  0.900969    0.900969  1.282480e-08\n",
            "10  1.000000e-10  0.900969    0.900969  1.238471e-07\n",
            "11  1.000000e-11  0.900968    0.900969  6.789586e-07\n",
            "12  1.000000e-12  0.900946    0.900969  2.288342e-05\n"
          ],
          "name": "stdout"
        }
      ]
    },
    {
      "cell_type": "markdown",
      "metadata": {
        "id": "9uXH-NMdtFfw"
      },
      "source": [
        "## Prove $\\frac{d}{dx} \\cos x = -\\sin x$\n",
        "\n",
        "Given\n",
        "$$\n",
        "\\begin{aligned}\n",
        "\\cos (a+b)&=\\cos a \\cos b - \\sin a \\sin b\n",
        "\\end{aligned}\n",
        "$$\n",
        "\n",
        "Proof (Derivation)\n",
        "\n",
        "\n",
        "$$\n",
        "\\begin{aligned}\n",
        "\\frac{d}{dx} \\cos (x) &= \\lim_{\\Delta x \\to 0} \\frac{\\cos (x + \\Delta x) - \\cos(x)}{\\Delta x}  \\\\\n",
        "&= \\lim_{\\Delta x \\to 0} \\frac{(\\cos x \\cos \\Delta x - \\sin x \\sin \\Delta x) - \\cos x}{\\Delta x}  \\\\\n",
        "&= \\lim_{\\Delta x \\to 0} \\left( \\cos x \\left( \\frac{\\cos \\Delta x - 1}{\\Delta x} \\right) - \\sin x \\left( \\frac{\\sin \\Delta x}{\\Delta x} \\right) \\right) \\\\\n",
        "&= - \\sin x\n",
        "\\end{aligned}\n",
        "$$\n"
      ]
    },
    {
      "cell_type": "markdown",
      "metadata": {
        "id": "ZKiQjJCtYTKy"
      },
      "source": [
        "### Empirically"
      ]
    },
    {
      "cell_type": "code",
      "metadata": {
        "colab": {
          "base_uri": "https://localhost:8080/"
        },
        "id": "LfKFpUYkYVJj",
        "outputId": "abe95995-9053-42a3-fdec-70bf2c97fd81"
      },
      "source": [
        "import math\r\n",
        "import pandas as pd\r\n",
        "import numpy as np\r\n",
        "df = pd.DataFrame(data=None,columns=[\"Delta X\",\"Limit\",\"Derivative\",\"Difference\"])\r\n",
        "xvals=[math.pi/3, math.pi/7]\r\n",
        "for ix, x in zip(range(len(xvals)), xvals):\r\n",
        "  print(\"Demonstrate Trying to converge sin(x) for x =\",x)\r\n",
        "  dxvals=[10**(-p) for p in range(1, 13)]\r\n",
        "  for idx, dx in zip(range(len(dxvals)), dxvals):\r\n",
        "    limitValue=(math.cos(x+dx)-math.cos(x))/dx\r\n",
        "    derivativeValue=-math.sin(x)\r\n",
        "    difference=abs(limitValue-derivativeValue)\r\n",
        "    df.loc[idx+1] = np.array([dx,limitValue,derivativeValue,difference])\r\n",
        "  print(df)"
      ],
      "execution_count": null,
      "outputs": [
        {
          "output_type": "stream",
          "text": [
            "Demonstrate Trying to converge sin(x) for x = 1.0471975511965976\n",
            "         Delta X     Limit  Derivative    Difference\n",
            "1   1.000000e-01 -0.889562   -0.866025  2.353652e-02\n",
            "2   1.000000e-02 -0.868511   -0.866025  2.485545e-03\n",
            "3   1.000000e-03 -0.866275   -0.866025  2.498556e-04\n",
            "4   1.000000e-04 -0.866050   -0.866025  2.499856e-05\n",
            "5   1.000000e-05 -0.866028   -0.866025  2.499994e-06\n",
            "6   1.000000e-06 -0.866026   -0.866025  2.499607e-07\n",
            "7   1.000000e-07 -0.866025   -0.866025  2.536261e-08\n",
            "8   1.000000e-08 -0.866025   -0.866025  2.392970e-09\n",
            "9   1.000000e-09 -0.866025   -0.866025  6.977153e-08\n",
            "10  1.000000e-10 -0.866026   -0.866025  1.807938e-07\n",
            "11  1.000000e-11 -0.866024   -0.866025  1.484541e-06\n",
            "12  1.000000e-12 -0.866140   -0.866025  1.150889e-04\n",
            "Demonstrate Trying to converge sin(x) for x = 0.4487989505128276\n",
            "         Delta X     Limit  Derivative    Difference\n",
            "1   1.000000e-01 -0.478172   -0.433884  4.428814e-02\n",
            "2   1.000000e-02 -0.438381   -0.433884  4.497575e-03\n",
            "3   1.000000e-03 -0.434334   -0.433884  4.504121e-04\n",
            "4   1.000000e-04 -0.433929   -0.433884  4.504772e-05\n",
            "5   1.000000e-05 -0.433888   -0.433884  4.504838e-06\n",
            "6   1.000000e-06 -0.433884   -0.433884  4.504592e-07\n",
            "7   1.000000e-07 -0.433884   -0.433884  4.533885e-08\n",
            "8   1.000000e-08 -0.433884   -0.433884  9.299334e-10\n",
            "9   1.000000e-09 -0.433884   -0.433884  7.864555e-08\n",
            "10  1.000000e-10 -0.433884   -0.433884  3.006902e-07\n",
            "11  1.000000e-11 -0.433886   -0.433884  2.521136e-06\n",
            "12  1.000000e-12 -0.433875   -0.433884  8.581094e-06\n"
          ],
          "name": "stdout"
        }
      ]
    },
    {
      "cell_type": "markdown",
      "metadata": {
        "id": "HJhCqm-XYtJf"
      },
      "source": [
        "## Prove $\\frac{d}{dx} x^n=nx^{n-1}$\r\n",
        "\r\n",
        "Proof\r\n",
        "$$\r\n",
        "\\begin{aligned}\r\n",
        "\\frac{d}{dx} x^n &= \\lim_{\\Delta x \\to 0} \\frac{(x+\\Delta x)^n-x^n}{\\Delta x} \\\\\r\n",
        "&= \\lim_{\\Delta x \\to 0} \\frac{x^n + nx^{n-1}\\Delta x + (\\Delta x^2 + \\Delta x^3 + ...) - x^n}{\\Delta x} \\\\\r\n",
        "&= \\lim_{\\Delta x \\to 0} \\left(nx^{n-1} + (\\Delta x + \\Delta x^2 + ...)  \\right) \\\\\r\n",
        "&= nx^{n-1} \\\\\r\n",
        "\\end{aligned}\r\n",
        "$$"
      ]
    },
    {
      "cell_type": "code",
      "metadata": {
        "id": "oW9t2-b_jmKO",
        "colab": {
          "base_uri": "https://localhost:8080/"
        },
        "outputId": "404cec43-74ee-4b79-d829-ac2a1f5b8cc2"
      },
      "source": [
        "# Example\n",
        "import math\n",
        "import pandas as pd\n",
        "import numpy as np\n",
        "df = pd.DataFrame(data=None,columns=[\"Delta X\",\"Limit\",\"Derivative\",\"Difference\"])\n",
        "xvals = [.2, 2]\n",
        "dxvals=[10**(-p) for p in range(1, 13)]\n",
        "\n",
        "n = 13\n",
        "for ix, x in zip(range(len(xvals)),xvals):\n",
        "  print(\"Convert x =\",x)\n",
        "  for idx, dx in zip(range(len(dxvals)), dxvals):\n",
        "    derivativeValue = n*x**(n-1)\n",
        "    limitValue = ((x+dx)**n - x**n)/dx\n",
        "    difference = abs(limitValue-derivativeValue) \n",
        "    df.loc[idx+1] = np.array([dx,limitValue,derivativeValue,difference])\n",
        "  print(df)    "
      ],
      "execution_count": null,
      "outputs": [
        {
          "output_type": "stream",
          "text": [
            "Convert x = 0.2\n",
            "         Delta X         Limit    Derivative    Difference\n",
            "1   1.000000e-01  1.586131e-06  5.324800e-08  1.532883e-06\n",
            "2   1.000000e-02  7.255238e-08  5.324800e-08  1.930438e-08\n",
            "3   1.000000e-03  5.487510e-08  5.324800e-08  1.627096e-09\n",
            "4   1.000000e-04  5.340804e-08  5.324800e-08  1.600372e-10\n",
            "5   1.000000e-05  5.326398e-08  5.324800e-08  1.597733e-11\n",
            "6   1.000000e-06  5.324960e-08  5.324800e-08  1.597469e-12\n",
            "7   1.000000e-07  5.324816e-08  5.324800e-08  1.597459e-13\n",
            "8   1.000000e-08  5.324802e-08  5.324800e-08  1.594983e-14\n",
            "9   1.000000e-09  5.324800e-08  5.324800e-08  1.618925e-15\n",
            "10  1.000000e-10  5.324801e-08  5.324800e-08  5.548033e-15\n",
            "11  1.000000e-11  5.324800e-08  5.324800e-08  4.514057e-15\n",
            "12  1.000000e-12  5.324830e-08  5.324800e-08  3.043670e-13\n",
            "Convert x = 2\n",
            "         Delta X         Limit  Derivative    Difference\n",
            "1   1.000000e-01  72552.377739     53248.0  19304.377739\n",
            "2   1.000000e-02  54875.095797     53248.0   1627.095797\n",
            "3   1.000000e-03  53408.037230     53248.0    160.037230\n",
            "4   1.000000e-04  53263.977329     53248.0     15.977329\n",
            "5   1.000000e-05  53249.597470     53248.0      1.597470\n",
            "6   1.000000e-06  53248.159751     53248.0      0.159751\n",
            "7   1.000000e-07  53248.015884     53248.0      0.015884\n",
            "8   1.000000e-08  53248.001313     53248.0      0.001313\n",
            "9   1.000000e-09  53248.004406     53248.0      0.004406\n",
            "10  1.000000e-10  53248.004406     53248.0      0.004406\n",
            "11  1.000000e-11  53248.004406     53248.0      0.004406\n",
            "12  1.000000e-12  53252.733778     53248.0      4.733778\n"
          ],
          "name": "stdout"
        }
      ]
    },
    {
      "cell_type": "markdown",
      "metadata": {
        "id": "ld-bJZc5l-py"
      },
      "source": [
        "## Theorem \r\n",
        "\r\n",
        "If $f$ is differentiable at $x_0$ then $f$ is continuous at $x_0$\r\n",
        "\r\n",
        "## Proof\r\n",
        "\r\n",
        "$$\r\n",
        "\\begin{aligned}\r\n",
        "\\lim_{x \\to x_0} f(x) - f(x_0) &= 0? \\\\\r\n",
        "&= \\lim_{x \\to x_0} \\frac{f(x) - f(x_0)}{x-x_0} (x-x_0) \\\\\r\n",
        "&= f^\\prime(x_0) 0 \\\\\r\n",
        "&= 0 \\\\ \r\n",
        "\\end{aligned}\r\n",
        "$$\r\n",
        "\r\n"
      ]
    },
    {
      "cell_type": "markdown",
      "metadata": {
        "id": "MSxQVLuhoBqa"
      },
      "source": [
        ""
      ]
    },
    {
      "cell_type": "markdown",
      "metadata": {
        "id": "CeEx4Hyi7YkW"
      },
      "source": [
        "## Prove  \r\n",
        "$$\r\n",
        "\\lim_{\\Delta x \\to 0} \\frac{\\sin (\\Delta x) }{\\Delta x} = 1\r\n",
        "$$\r\n",
        "$$\r\n",
        "\\lim_{\\Delta x \\to 0} \\frac{\\cos (\\Delta x) - 1}{\\Delta x} = 0\r\n",
        "$$\r\n",
        "To do so show geometrically as short curves are nearly straight\r\n",
        "$$\r\n",
        "\\frac{2 \\sin \\theta}{2 \\theta} = 1\r\n",
        "$$"
      ]
    },
    {
      "cell_type": "code",
      "metadata": {
        "colab": {
          "base_uri": "https://localhost:8080/",
          "height": 283
        },
        "id": "Wl--ztv88UEB",
        "outputId": "9150a05d-979f-4396-9a36-a9c30eee87e3"
      },
      "source": [
        "import matplotlib.pyplot as plt\r\n",
        "import math\r\n",
        "x = np.array([])\r\n",
        "y = np.array([])\r\n",
        "for theta in np.arange(0,2*math.pi,.01):\r\n",
        "  x = np.append(x,math.sin(theta))\r\n",
        "  y = np.append(y,math.cos(theta))\r\n",
        "plt.axes().set_aspect('equal', 'datalim')\r\n",
        "plt.plot(x,y)  \r\n",
        "theta1=.5\r\n",
        "plt.plot([0,math.cos(theta1)],[0,math.sin(theta1)],color='green')\r\n",
        "theta2=-theta1\r\n",
        "plt.plot([0,math.cos(theta2)],[0,math.sin(theta2)],color='green')\r\n",
        "plt.plot([math.cos(theta1),math.cos(theta2)],\r\n",
        "         [math.sin(theta1),math.sin(theta2)],\r\n",
        "         color='purple')\r\n",
        "plt.plot([0,1],[0,0],color='black')\r\n",
        "plt.plot([0,math.cos(theta1)],[0,0],color='yellow')\r\n",
        "plt.text(.3,.06,r'$\\theta$')\r\n",
        "plt.text(.3,-.1,r'$\\theta$')\r\n",
        "plt.text(1.1,.3,r'$\\theta$')\r\n",
        "plt.text(1.1,-.5,r'$\\theta$')\r\n",
        "plt.text(.7,.2,r'sin$\\theta$')\r\n",
        "plt.text(.7,-.2,r'sin$\\theta$')\r\n",
        "plt.text(.5,0,r'cos$\\theta$')\r\n",
        "plt.xlabel(r'arclength is 2$\\theta$, height is 2sin$\\theta$, ratio converges to 1')\r\n",
        "plt.show()"
      ],
      "execution_count": null,
      "outputs": [
        {
          "output_type": "display_data",
          "data": {
            "image/png": "[encoded data removed]",
            "text/plain": [
              "<Figure size 432x288 with 1 Axes>"
            ]
          },
          "metadata": {
            "tags": [],
            "needs_background": "light"
          }
        }
      ]
    },
    {
      "cell_type": "markdown",
      "metadata": {
        "id": "A9S4o75zIt_8"
      },
      "source": [
        "## Lecture 4\n",
        "\n",
        "Constant\n",
        "\n",
        "$$\n",
        "\\frac{d}{dt} cu = (cu)^\\prime = c \\frac{du}{dt} = cu^\\prime\n",
        "$$\n",
        "\n",
        "Addition\n",
        "\n",
        "$$\n",
        "(u+v)^\\prime = u^\\prime+v^\\prime\n",
        "$$\n",
        "\n",
        "Product Rule \n",
        "$$\n",
        "(uv)^\\prime=u^\\prime v + u v ^\\prime\n",
        "$$\n",
        "\n",
        "Quotient rule \n",
        "$$\n",
        "\\left( \\frac{u}{v} \\right)^\\prime\n",
        "=\\frac{u^\\prime v - uv^\\prime}{v^2}\n",
        "$$\n",
        "\n",
        "### Proof of Product Rule\n",
        "\n",
        "$$\n",
        "\\begin{aligned}\n",
        "\\Delta(uv) &= u(x+\\Delta x)v(x+\\Delta x)-u(x)v(x) \\\\\n",
        "& \\text{now add and subtract an extra }u(x)v(x+\\Delta x) \\\\\n",
        "&= (u(x+\\Delta x)-u(x))v(x+\\Delta x) + u(x)v(x+\\Delta x) - u(x)v(x) \\\\\n",
        "&\\text{now we have }\\Delta u \\text{ and }\\Delta v \\\\\n",
        "&= (u(x+\\Delta x)-u(x))v(x+\\Delta x) + u(x)(v(x+\\Delta x) - v(x)) \\\\\n",
        "&= (\\Delta u ) v(x + \\Delta x) + u(x) \\Delta v \\\\\n",
        "&\\text{thus for quotient} \\\\\n",
        "\\frac{\\Delta(uv)}{\\Delta x} &= \\frac{\\Delta u}{\\Delta x} v(x+\\Delta x) - u(x) \\frac{\\Delta v}{\\Delta x} \\\\\n",
        "&\\text{taking }\\lim_{\\Delta x \\to 0} \\\\\n",
        "&= \\frac{du}{dx}v + u \\frac{dv}{dx} = u^\\prime v + uv^\\prime \\\\\n",
        "\\end{aligned}\n",
        "$$\n",
        "\n",
        "## Proof of Quotient Rule\n",
        "\n",
        "$$\n",
        "\\begin{aligned}\n",
        "\\Delta \\left( \\frac{u}{v} \\right) &= \\frac{u+\\Delta u}{v + \\Delta v} - \\frac{u}{v} \\\\\n",
        "&= \\frac{uv+(\\Delta u)v-uv-u\\Delta v}{(v+\\Delta v)v} \\\\\n",
        "&= \\frac{(\\Delta u)v-u\\Delta v}{(v+\\Delta v)v} \\\\\n",
        "\\frac{\\Delta \\left( \\frac{u}{v} \\right)}{\\Delta x} &= \n",
        "\\frac{\\frac{\\Delta u}{\\Delta x}v - u\\frac{\\Delta v}{\\Delta x}}{(v+\\Delta v)v} \\\\\n",
        "& \\lim_{\\Delta x \\to 0} \\\\\n",
        "\\frac{d}{dx} \\left( \\frac{u}{v} \\right) &= \\frac{\\frac{du}{dx}v-u\\frac{dv}{dx}}{v^2} \\\\ \n",
        "&= \\frac{u^\\prime v - uv^\\prime}{v^2}\n",
        "\\end{aligned}\n",
        "$$\n",
        "\n",
        "Example $u=1,v=v$, find $\\frac{d}{dx} \\left( \\frac{1}{v} \\right)$\n",
        "\n",
        "$$\n",
        "\\frac{d}{dx} \\left( \\frac{1}{x} \\right) = \\frac{0v-1v^\\prime}{v^2}\n",
        "= -v^{-2}v^\\prime\n",
        "$$\n",
        "\n",
        "Subexample: $u=1, v=x^n$\n",
        "\n",
        "$$\n",
        "\\frac{d}{dx} \\left( \\frac{1}{x^n} \\right) = \\frac{0x^n-1nx^{n-1}}{x^{2n}}\n",
        "= -nx^{n-1-2n} = -nx^{-n-1}\n",
        "$$\n",
        "\n",
        "Composition Rule Proof\n",
        "\n",
        "$$\n",
        "\\begin{aligned}\n",
        "\\frac{\\Delta y}{\\Delta t} = \\frac{\\Delta y}{\\Delta x} \\frac{\\Delta x}{\\Delta t}\\quad \\text{ , or, equivalently, }\\quad \\frac{dy}{dt} = \\frac{dy}{dx} \\frac{dx}{dt} \n",
        "\\end{aligned}\n",
        "$$\n",
        "\n",
        "Example\n",
        "\n",
        "$$\n",
        "\\frac{d}{dx} (\\sin x)^{10} = 10 (\\sin x)^9 \\cos x = 10 \\sin^9 x \\cos x\n",
        "$$\n",
        "\n",
        "$$\n",
        "\\frac{d}{dt} \\sin (10t) =  \\cos ( 10t ) 10\n",
        "$$\n",
        "\n",
        "Higher Derivatives\n",
        "\n",
        "$$\n",
        "u^{\\prime\\prime} = \\frac{d}{dx} \\frac{du}{dx} = \\frac{d}{dx} \\frac{d}{dx} u = \\left( \\frac{d}{dx} \\right)^2 u = \\frac{d^2}{(dx)^2} u = D^2 u = \\frac{d^2u}{dx^2} \n",
        "$$\n",
        "$$\n",
        "u^{\\prime \\prime \\prime} = D^3 u = \\frac{d^3u}{dx^3}\n",
        "$$\n"
      ]
    },
    {
      "cell_type": "markdown",
      "metadata": {
        "id": "2fKgWxx9SPaC"
      },
      "source": [
        "## Lecture 5\n",
        "\n",
        "\n",
        "Fractional Powers\n",
        "\n",
        "$$\n",
        "\\begin{aligned}\n",
        "\\frac{d}{dx} x^{m/n} &= \\\\\n",
        "y &=  x^{m/n} \\\\\n",
        "y^n &= x^m \\\\\n",
        "\\frac{d}{dx} y^n &= \\frac{d}{dx} x^m \\\\\n",
        "\\text{chain rule} \\left( \\frac{d}{dy} y^n \\right) \\frac{dy}{dx} &= mx^{n-1} \\\\ \n",
        "ny^{n-1} \\frac{dy}{dx} &= mx^{m-1} \\\\\n",
        "\\frac{dy}{dx} &= \\frac{m}{n} \\frac{1}{y^{n-1}} x^{m-1} \\\\\n",
        "&= \\frac{m}{n} \\frac{1}{(x^{m/n})^{n-1}} x^{m-1} \\\\\n",
        "&= \\frac{m}{n} \\frac{1}{x^{m-m/n}} x^{m-1} \\\\\n",
        "&= \\frac{m}{n} x^{-m+m/n} x^{m-1} \\\\\n",
        "&= \\frac{m}{n} x^{m/n-1} \\\\\n",
        "\\end{aligned}\n",
        "$$\n",
        "\n",
        "Implicit Differentiation\n",
        "\n",
        "$$\n",
        "\\begin{aligned}\n",
        "x^2 + y^2 &= 1 \\\\\n",
        "2x + 2y \\frac{dy}{dx} &= 0 & \\frac{d}{dx} \\text{ both sides}\\\\\n",
        "y^\\prime &= \\frac{-2x}{2y} = \\frac{-x}{y} & y^\\prime=\\frac{dy}{dx} \\\\\n",
        "y^\\prime &= \\frac{-x}{(1-x^2)^{1/2}}  & y = (1-x^2)^{1/2}\n",
        "\\end{aligned}\n",
        "$$\n",
        "\n",
        "Example\n",
        "\n",
        "Explicit, first solve for $y$\n",
        "\n",
        "$$\n",
        "\\begin{aligned}\n",
        "y^4 + xy^2 - 2 &= 0 \\\\\n",
        "y^2 = \\frac{-x \\pm \\sqrt{x^2-4(-2)}}{2} \\\\\n",
        "\\implies y = \\pm \\sqrt{\\frac{-x \\pm \\sqrt{x^2-4(-2)}}{2}} \\\\\n",
        "\\end{aligned}\n",
        "$$\n",
        "\n",
        "Implicit, then substitute $y$ in terms of $x$ at end\n",
        "\n",
        "$$\n",
        "\\begin{aligned}\n",
        "y^4 + xy^2 - 2 &= 0 \\\\\n",
        "4y^3 y^\\prime + y^2 + x(2yy^\\prime) - 0 &= 0 & \\frac{d}{dx}\\\\\n",
        "(4y^3+x2y) y^\\prime + y^2 &= 0 \\\\\n",
        "y^\\prime = \\frac{-y^2}{4y^3+x2y} \\\\\n",
        "\\end{aligned}\n",
        "$$\n",
        "\n",
        "Inverse Functions\n",
        "\n",
        "$$\n",
        "y=f(x), g(y)=x, g(f(x))=x, g=f^{-1}, f=g^{-1}\n",
        "$$\n",
        "\n"
      ]
    },
    {
      "cell_type": "code",
      "metadata": {
        "colab": {
          "base_uri": "https://localhost:8080/",
          "height": 265
        },
        "id": "plbEA1iBTQEe",
        "outputId": "ad8a6b51-d09e-48c4-ed67-03e2dfce6e4e"
      },
      "source": [
        "# y=x^(1/2), f(x)=x^1/2, f-1(x)=x^2\r\n",
        "# show that inverse rotates about diagonal\r\n",
        "import matplotlib.pyplot as plt\r\n",
        "import numpy as np\r\n",
        "import math\r\n",
        "x = np.linspace(0,1.5,100) \r\n",
        "plt.plot(x,np.sqrt(x)) \r\n",
        "plt.gca().set_aspect('equal')\r\n",
        "plt.plot(x,np.square(x)) \r\n",
        "plt.show()"
      ],
      "execution_count": null,
      "outputs": [
        {
          "output_type": "display_data",
          "data": {
            "image/png": "[encoded data removed]",
            "text/plain": [
              "<Figure size 432x288 with 1 Axes>"
            ]
          },
          "metadata": {
            "tags": [],
            "needs_background": "light"
          }
        }
      ]
    },
    {
      "cell_type": "markdown",
      "metadata": {
        "id": "yU4_uliXOzOP"
      },
      "source": [
        "Example\r\n",
        "\r\n",
        "### $y=\\tan^{-1} x$, equivalently $\\tan y = x$\r\n",
        "\r\n",
        "Drawing it\r\n",
        "\r\n",
        "$$\r\n",
        "\\begin{aligned}\r\n",
        "\\end{aligned}\r\n",
        "$$\r\n",
        "\r\n"
      ]
    },
    {
      "cell_type": "code",
      "metadata": {
        "colab": {
          "base_uri": "https://localhost:8080/",
          "height": 268
        },
        "id": "wwsjfwz0PJep",
        "outputId": "bb2ea904-4368-416d-f7d9-e4d1b3e4d91f"
      },
      "source": [
        "import math\r\n",
        "import numpy as np\r\n",
        "import matplotlib.pyplot as plt\r\n",
        "x1 = np.linspace(-math.pi/2+.3,math.pi/2-.3,100) # create 100 points from -pi/2 to pi/2\r\n",
        "plt.plot(x1,np.tan(x1),color='red',label=r'$\\tan$')\r\n",
        "x2 = np.linspace(-math.pi+.3,math.pi-.3,100) \r\n",
        "plt.plot(x2,np.arctan(x2),color='green',label=r'$\\tan^{-1}$')\r\n",
        "plt.gca().set_aspect('equal')\r\n",
        "#plt.axes().set_aspect('equal') \r\n",
        "plt.xticks([-math.pi/2,0,math.pi/2],labels=[r'-$\\pi$/2','0',r'$\\pi$/2'])\r\n",
        "plt.yticks([-math.pi/2,0,math.pi/2],labels=[r'-$\\pi$/2','0',r'$\\pi$/2'])\r\n",
        "plt.legend(loc='best')\r\n",
        "plt.grid()\r\n",
        "plt.show()"
      ],
      "execution_count": null,
      "outputs": [
        {
          "output_type": "display_data",
          "data": {
            "image/png": "[encoded data removed]",
            "text/plain": [
              "<Figure size 432x288 with 1 Axes>"
            ]
          },
          "metadata": {
            "tags": [],
            "needs_background": "light"
          }
        }
      ]
    },
    {
      "cell_type": "markdown",
      "metadata": {
        "id": "zFc-XCaYWCEK"
      },
      "source": [
        "Recall\r\n",
        "\r\n",
        "$$\r\n",
        "\\begin{aligned}\r\n",
        "\\frac{d}{dy} \\tan y &= \\frac{d}{dy} \\frac{\\sin y}{\\cos y} \\\\\r\n",
        "&= \\frac{u^\\prime v - uv^\\prime}{v^2} = \\frac{\\cos y \\cos y - \\sin y (- \\sin y)}{\\cos^2 y} \\\\\r\n",
        "&= \\frac{\\sin^2 y + \\cos^2 y}{cos^2 y} \\\\\r\n",
        "&= \\frac{1}{\\cos^2 y} \\\\\r\n",
        "&= \\sec^2 y \\\\\r\n",
        "\\end{aligned}\r\n",
        "$$\r\n",
        "\r\n",
        "So differentiate equation\r\n",
        "\r\n",
        "$$\r\n",
        "\\begin{aligned}\r\n",
        "\\frac{d}{dx} \\left( \\tan y \\right) &= \\frac{d}{dx} x  \\\\\r\n",
        "\\left( \\frac{d}{dy} \\tan y \\right) \\frac{dy}{dx} &= 1 \\\\\r\n",
        "\\frac{1}{\\cos^2 y} y^\\prime &= 1 \\\\\r\n",
        "y^\\prime &= \\cos^2 y \\\\\r\n",
        "&= \\cos^2 ( \\tan^{-1} x ) \\\\\r\n",
        "\\end{aligned}\r\n",
        "$$"
      ]
    },
    {
      "cell_type": "code",
      "metadata": {
        "colab": {
          "base_uri": "https://localhost:8080/",
          "height": 281
        },
        "id": "EMwQRYcfZ3_J",
        "outputId": "9b7b5173-3182-4ff4-acd4-dbe68074a760"
      },
      "source": [
        "# tan y = x\r\n",
        "import matplotlib.pyplot as plt\r\n",
        "import numpy as np\r\n",
        "x = .7\r\n",
        "plt.plot([0,1,1,0],[0,x,0,0])\r\n",
        "plt.text(.4,.4,r'$\\sqrt{1+x^2}$')\r\n",
        "plt.text(1.05,.3,r'$x$')\r\n",
        "plt.text(.5,-.1,'1')\r\n",
        "plt.xlim(0,1.2)\r\n",
        "plt.ylim(-.2,.8)\r\n",
        "#plt.title('proof')\r\n",
        "plt.show()"
      ],
      "execution_count": null,
      "outputs": [
        {
          "output_type": "display_data",
          "data": {
            "image/png": "[encoded data removed]",
            "text/plain": [
              "<Figure size 432x288 with 1 Axes>"
            ]
          },
          "metadata": {
            "tags": [],
            "needs_background": "light"
          }
        }
      ]
    },
    {
      "cell_type": "markdown",
      "metadata": {
        "id": "ydnsOksFbzoR"
      },
      "source": [
        "From above graph\r\n",
        "$$\r\n",
        "\\begin{aligned}\r\n",
        "\\cos y  &= \\frac{1}{\\sqrt{1+x^2}} \\\\\r\n",
        "\\cos^2 y &= \\frac{1}{1+x^2} \\\\\r\n",
        "\\implies \\frac{d}{dx} \\tan^{-1} x &= \\frac{1}{1+x^2} \\\\\r\n",
        "\\end{aligned}\r\n",
        "$$"
      ]
    },
    {
      "cell_type": "markdown",
      "metadata": {
        "id": "hl-42UpmdP1m"
      },
      "source": [
        "$$\r\n",
        "\\begin{aligned}\r\n",
        "y &= \\sin^{-1} x \\\\\r\n",
        "\\sin y &= x \\\\\r\n",
        "\\cos y y^\\prime &= 1 \\\\\r\n",
        "y^\\prime &= \\frac{1}{\\cos y} \\\\\r\n",
        "&= \\frac{1}{\\sqrt{1-\\sin^2 y}} \\\\\r\n",
        "&= \\frac{1}{\\sqrt{1-x^2}} \\\\\r\n",
        "\\frac{d}{dx} \\sin^{-1} x &= \\frac{1}{\\sqrt{1-x^2}} \\\\\r\n",
        "\\end{aligned}\r\n",
        "$$"
      ]
    }
  ]
}