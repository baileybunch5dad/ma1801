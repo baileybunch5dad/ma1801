{
  "nbformat": 4,
  "nbformat_minor": 0,
  "metadata": {
    "colab": {
      "name": "meanvaluetheorem.ipynb",
      "provenance": [],
      "authorship_tag": "ABX9TyOJANUcPYkyVWV9CxUlUBTd",
      "include_colab_link": true
    },
    "kernelspec": {
      "name": "python3",
      "display_name": "Python 3"
    }
  },
  "cells": [
    {
      "cell_type": "markdown",
      "metadata": {
        "id": "view-in-github",
        "colab_type": "text"
      },
      "source": [
        "<a href=\"https://colab.research.google.com/github/baileybunch5dad/ma1801/blob/main/meanvaluetheorem.ipynb\" target=\"_parent\"><img src=\"https://colab.research.google.com/assets/colab-badge.svg\" alt=\"Open In Colab\"/></a>"
      ]
    },
    {
      "cell_type": "markdown",
      "metadata": {
        "id": "2XQpj2LcIIs5"
      },
      "source": [
        "## Mean Value Theorem  (MVT)\n",
        "\n",
        "Colloquially: If you go from Boston to LA, 3000 mi, in 6 hours then at some point in  time you must have been going at the mean, 500 mi/hr\n",
        "\n",
        "Distance traveled is infinitesimal time for some time between the extremes\n",
        "\n",
        "$$\n",
        "\\frac{f(b)-f(a)}{b-a}=f^\\prime(c), \\quad \\text{for some }c, \\quad  a \\lt c \\lt b\n",
        "$$\n",
        "\n",
        "Provided $f$ is differentiable in $a \\lt x \\lt b$ and continuous in $a \\le x \\le b$ \n",
        "\n",
        "Graphically bring a tangent line up from bottom or down from top until it touches\n",
        "\n",
        "Applications to graphing\n",
        "- If $f^\\prime$ is positive, then $f$ is increasing\n",
        "- If $f^\\prime \\lt 0$ then $f$ is decreasing\n",
        "- If $f^\\prime = 0$, then $f$ is constant\n",
        "\n",
        "Proof, rewrite formula\n",
        "\n",
        "$$\n",
        "\\begin{aligned}\n",
        "\\frac{f(b)-f(a)}{b-a} &= f^\\prime(c) \\\\\n",
        "f(b)-f(a) &= f^\\prime(c)(b-a) \\\\\n",
        "f(b) &= f(a) + f^\\prime(c) (b-a) \\\\\n",
        "\\end{aligned}\n",
        "$$\n",
        "\n",
        "Giev $a \\lt b$ then $b-a$ is positive, so the above proves all three points\n",
        "- $f^\\prime(c) \\gt 0 \\implies f(b) \\gt f(a)$\n",
        "- $f^\\prime(c) \\lt 0 \\implies f(b) \\lt f(a)$\n",
        "- $f^\\prime(c) = 0 \\implies f(b) = f(a)$\n",
        "\n",
        "One method of finding $c$ take the inverse of the derivative function, apply to both sides\n",
        "$$\n",
        "c = (f^\\prime)^{-1} \\left( \\frac{f(b)-f(a)}{b-a} \\right)\n",
        "$$\n",
        " "
      ]
    },
    {
      "cell_type": "markdown",
      "metadata": {
        "id": "8Lo2Q2ZCffF7"
      },
      "source": [
        ""
      ]
    },
    {
      "cell_type": "code",
      "metadata": {
        "colab": {
          "base_uri": "https://localhost:8080/",
          "height": 265
        },
        "id": "PkCTkr8iMDHU",
        "outputId": "4700eccd-a10b-42b6-e1bd-44c724509755"
      },
      "source": [
        "import matplotlib.pyplot as plt\n",
        "import numpy as np\n",
        "x = np.linspace(-5,5)\n",
        "def fx(x): return x**3\n",
        "def fpx(x): return 3*x**2\n",
        "def fpinv(a,b): return np.sqrt(1/3 * (fx(b)-fx(a))/(b-a))\n",
        "plt.plot(x,fx(x))\n",
        "a=-4\n",
        "plt.scatter(a,fx(a),s=10)\n",
        "plt.text(a,fx(a),'a,f(a)')\n",
        "b=4\n",
        "plt.scatter(b,fx(b),s=10)\n",
        "plt.text(b,fx(b),'b,f(b)')\n",
        "plt.plot([a,b],[fx(a),fx(b)],ls='--')\n",
        "c=fpinv(a,b)\n",
        "x = np.linspace(-4,4)\n",
        "y = fpx(c)*(x-c)+fx(c)\n",
        "plt.plot(x,y,ls='--')\n",
        "plt.scatter(c,fx(c),s=5)\n",
        "plt.text(c,fx(c),'c,f(c)')\n",
        "plt.show()"
      ],
      "execution_count": null,
      "outputs": [
        {
          "output_type": "display_data",
          "data": {
            "image/png": "[encoded data removed]",
            "text/plain": [
              "<Figure size 432x288 with 1 Axes>"
            ]
          },
          "metadata": {
            "tags": [],
            "needs_background": "light"
          }
        }
      ]
    },
    {
      "cell_type": "markdown",
      "metadata": {
        "id": "CE8X6xQ-YPkF"
      },
      "source": [
        "Comparison with linear approximation\n",
        "$$\n",
        "\\text{Linear Approximation: } \\frac{\\Delta f}{\\Delta x} \\approx f^\\prime(a) , \\quad b\\text{ near }a, \\quad b-a=\\Delta x \\\\\n",
        "\\text{Mean Value Theorem: } \\frac{\\Delta f}{\\Delta x} = f^\\prime(c) \n",
        "$$\n"
      ]
    },
    {
      "cell_type": "markdown",
      "metadata": {
        "id": "0vpmz-zxZeRA"
      },
      "source": [
        "Ramifications\n",
        "$$\n",
        "\\min f^\\prime \\le \\frac{f(a)-f(a)}{b-a} = f^\\prime(c) \\le \\max f^\\prime \\quad  \\text { on } a \\le x \\le b\n",
        "$$\n",
        "this average speed between minimum and maximum, $\\min \\le \\bar{x} \\le \\max$\n",
        "and, for linear approximation, $\\bar{x} \\approx $ initial speed"
      ]
    },
    {
      "cell_type": "markdown",
      "metadata": {
        "id": "RK6iVbWadCEU"
      },
      "source": [
        "## Inequalities\n",
        "\n",
        "$$\n",
        "e^x \\gt 1+x \\quad \\text{for }x \\gt 0 \n",
        "$$\n",
        "Proof\n",
        "$$\n",
        "f(x) = e^x - (1+x)\n",
        "$$\n",
        "starts\n",
        "$$\n",
        "f(0) = e^0 - (1+0) = 0 \n",
        "$$\n",
        "and\n",
        "$$\n",
        "f^\\prime(x) = e^x - 1 \\gt 0, \\quad x \\gt 0\n",
        "$$\n",
        "therefore $\\therefore$ \n",
        "$$\n",
        "\\therefore f(x) \\gt f(0) \\quad x \\gt 0 \n",
        "$$\n",
        "Substituting\n",
        "$$\n",
        "e^x - (1+x) \\gt 0 \\Longleftrightarrow e^x \\gt 1+x \n",
        "$$\n"
      ]
    },
    {
      "cell_type": "markdown",
      "metadata": {
        "id": "aglqyHI8fiPx"
      },
      "source": [
        "## Prove $e^x \\gt 1 + x + \\frac{x^2}{2}$\n",
        "\n",
        "$$\n",
        "\\begin{aligned}\n",
        "f(x) &= e^x - 1 - x - \\frac{x^2}{2} \\\\\n",
        "f(0) &= 1 - 1 - 0 - 0 = 0 \\\\\n",
        "f^\\prime(x) &= e^x - (1 + x) \\gt 0 & \\text{previous proof} \\\\\n",
        "f(x) &\\gt f(0) \\Longleftrightarrow e^x > 1 + x + \\frac{x^2}{2} \\\\ \n",
        "\\end{aligned}\n",
        "$$\n",
        "\n",
        "Which then can be applied to the next term , iteratively arriving at\n",
        "\n",
        "$$\n",
        "e^x \\gt 1 + x + \\frac{x^2}{2} + \\frac{x^3}{3 \\cdot 2} + \\frac{x^4}{4 \\cdot 3 \\cdot 2} + \\ldots \\gt \\sum_{i=0}^{\\infty} \\frac{x^i}{i!}\n",
        "$$"
      ]
    },
    {
      "cell_type": "code",
      "metadata": {
        "colab": {
          "base_uri": "https://localhost:8080/"
        },
        "id": "vY0JJ0tWiPhn",
        "outputId": "248e2e62-de0e-4e38-9d14-789dbc4f3bde"
      },
      "source": [
        "i=20\n",
        "x=3\n",
        "print(np.exp(x))\n",
        "print(np.sum([x**i/np.math.factorial(i) for i in range(100)]))"
      ],
      "execution_count": 16,
      "outputs": [
        {
          "output_type": "stream",
          "text": [
            "20.085536923187668\n",
            "20.085536923187668\n"
          ],
          "name": "stdout"
        }
      ]
    },
    {
      "cell_type": "code",
      "metadata": {
        "id": "6TZZQioTCvDq",
        "colab": {
          "base_uri": "https://localhost:8080/",
          "height": 34
        },
        "outputId": "abbe7ae0-945d-48ca-96b3-6530a1394cd3"
      },
      "source": [
        "print(\"Hello Ms. Larson\")"
      ],
      "execution_count": null,
      "outputs": [
        {
          "output_type": "stream",
          "text": [
            "Hello Ms. Larson\n"
          ],
          "name": "stdout"
        }
      ]
    },
    {
      "cell_type": "markdown",
      "metadata": {
        "id": "hOm8ZeqbC17i"
      },
      "source": [
        "# big\n",
        "## 2 hash\n",
        "### 3 hash\n",
        "- one\n",
        "- two\n",
        "- three\n",
        "\n",
        "no has\n",
        "\n"
      ]
    }
  ]
}