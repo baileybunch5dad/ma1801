{
  "nbformat": 4,
  "nbformat_minor": 0,
  "metadata": {
    "colab": {
      "name": "mkssqrt5.ipynb",
      "provenance": [],
      "authorship_tag": "ABX9TyOpMOAE44TuqBlUT5nZXBgu",
      "include_colab_link": true
    },
    "kernelspec": {
      "name": "python3",
      "display_name": "Python 3"
    }
  },
  "cells": [
    {
      "cell_type": "markdown",
      "metadata": {
        "id": "view-in-github",
        "colab_type": "text"
      },
      "source": [
        "<a href=\"https://colab.research.google.com/github/baileybunch5dad/ma1801/blob/main/mkssqrt5.ipynb\" target=\"_parent\"><img src=\"https://colab.research.google.com/assets/colab-badge.svg\" alt=\"Open In Colab\"/></a>"
      ]
    },
    {
      "cell_type": "markdown",
      "metadata": {
        "id": "b5JehXuj7BCT"
      },
      "source": [
        "# Manju and the Jeopardy Answer: Because we can divide by 2\n",
        "\n",
        "## Ken Jennings Question: How can you find the $\\sqrt5$ or any $\\#$ ?\n",
        "\n",
        "$$\n",
        "\\begin{aligned}\n",
        "x^2 &= 5 \\implies y=x^2-5 \\implies f(x)=x^2-5, f^\\prime(x) = 2x \\\\\n",
        "\\frac{\\text{rise}}{\\text{run}} &= m = \\frac{y-y_0}{x-x_0} = f^\\prime(x_0) \\\\\n",
        "\\text{x-intercept } y&=0 \\implies \\frac{0-y_0}{x-x_0} = f^\\prime(x_0) \\implies x=x_0-\\frac{f(x_0)}{f^\\prime(x_0)}\\\\\n",
        "\\text{For }\\sqrt{5} \\quad x &= x_0 - \\frac{x_0^2-5}{2x_0} = x_0 - \\frac{1}{2} x_0 + \\frac{5}{2x_0} \\\\\n",
        "\\text{For any }\\sqrt{\\#} \\quad x_{n+1} &= \\frac{x_n}{2} + \\frac{\\#}{2x_n} \\\\\n",
        "\\text{With } \\sqrt{5} \\quad x_0 &= \\boxed{ 2 } & \\text{guess 1=2} \\\\\n",
        "x_1 &= \\frac{2}{2} + \\frac{5}{2 \\cdot 2} = \\boxed{ \\frac{9}{4} } & \\text{guess 2=2.25}\\\\\n",
        "x_2 &= \\frac{\\frac{9}{4}}{2} + \\frac{5}{2\\cdot\\frac{9}{4}} =\n",
        "\\frac{9\\cdot 18 + 20\\cdot 8}{8 \\cdot 18} = \\boxed { \\frac{322}{144} } & \\text{guess 3=2.361} \\\\\n",
        "\\end{aligned}\n",
        "$$\n",
        "\n",
        "\n"
      ]
    },
    {
      "cell_type": "code",
      "metadata": {
        "colab": {
          "base_uri": "https://localhost:8080/",
          "height": 265
        },
        "id": "0LWUnW5a3mOM",
        "outputId": "fe244ce1-5d77-4574-b4ee-7509fa116071"
      },
      "source": [
        "import matplotlib.pyplot as plt\n",
        "import numpy as np\n",
        "def f(x): return x**2-5 # sqrt(5)\n",
        "def m(x): return 2*x # tangent slope is derivative\n",
        "x = np.linspace(-3,3)\n",
        "plt.plot(x,f(x))\n",
        "x = np.linspace(1,3)\n",
        "g1 = 2 # guess\n",
        "y = m(g1)*(x-g1)+f(g1)\n",
        "plt.plot(x,y)\n",
        "g2 = g1 - f(g1)/m(g1) # next guess\n",
        "plt.scatter([g1,g2],[0,0],s=40)\n",
        "l,r = plt.xlim(); b,t = plt.ylim(); #left,right,top,bot\n",
        "plt.hlines(0,l,r,color='black')\n",
        "plt.vlines(0,b,t,color='black')\n",
        "plt.vlines([g1,g2],b,t,ls='--')\n",
        "plt.show()"
      ],
      "execution_count": 19,
      "outputs": [
        {
          "output_type": "display_data",
          "data": {
            "image/png": "[encoded data removed]",
            "text/plain": [
              "<Figure size 432x288 with 1 Axes>"
            ]
          },
          "metadata": {
            "tags": [],
            "needs_background": "light"
          }
        }
      ]
    }
  ]
}