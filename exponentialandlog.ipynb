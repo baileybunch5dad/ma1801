{
  "nbformat": 4,
  "nbformat_minor": 0,
  "metadata": {
    "colab": {
      "name": "exponentialandlog.ipynb",
      "provenance": [],
      "authorship_tag": "ABX9TyMEWpWYF+Mb8UjPGQu3AAkZ",
      "include_colab_link": true
    },
    "kernelspec": {
      "name": "python3",
      "display_name": "Python 3"
    }
  },
  "cells": [
    {
      "cell_type": "markdown",
      "metadata": {
        "id": "view-in-github",
        "colab_type": "text"
      },
      "source": [
        "<a href=\"https://colab.research.google.com/github/baileybunch5dad/ma1801/blob/main/exponentialandlog.ipynb\" target=\"_parent\"><img src=\"https://colab.research.google.com/assets/colab-badge.svg\" alt=\"Open In Colab\"/></a>"
      ]
    },
    {
      "cell_type": "markdown",
      "metadata": {
        "id": "UA8bUXDHRxeF"
      },
      "source": [
        "## Differentiate $a^x$ and $x^x$\n",
        "\n",
        "## Find $\\lim_{x \\to \\infty}(1+\\frac{1}{x})^x$"
      ]
    },
    {
      "cell_type": "markdown",
      "metadata": {
        "id": "NRP28r1Np8e9"
      },
      "source": [
        "## Exponents and Logarithms\n",
        "\n",
        "$$\n",
        "\\begin{aligned}\n",
        "a>0 \\quad &  a^0=1, \\quad a^1=1 \\quad a^2=aa \\\\\n",
        "\\text{base} \\quad & a^{x_1+x_2} = a^{x_1}a^{x_2} \\\\\n",
        "& (a^{x_1})^{x_2}=a^{x_1x_2}\\\\\n",
        "& a^{m/n} = \\sqrt[n]{a^m} \\\\\n",
        "\\frac{d}{dx} a^x &= \\lim_{\\Delta x \\to 0} \\frac{a^{x+\\Delta x}-a^x}{\\Delta x}\\\\\n",
        "&= \\lim_{\\Delta x \\to 0} a^x \\frac{a^{\\Delta x}-1}{\\Delta x} \\\\\n",
        "\\frac{d}{dx} a^x &= a^x \\left( \\lim_{\\Delta x \\to 0} \\frac{a^{\\Delta x}-1}{\\Delta x} \\right) \\\\\n",
        "\\text{Define } M(a) &= \\lim_{\\Delta x \\to 0} \\frac{a^{\\Delta x}-1}{\\Delta x} \\\\\n",
        "\\frac{d}{dx} a^x &= M(a) a^x \\\\\n",
        "\\text{at }x&=0 \\\\\n",
        "\\frac{d}{dx}a^x\\vert_{x=0} &= M(a)a^0 = M(a) \\\\\n",
        "& M(a) \\text{ is the slope of }a^x\\text{ at }x=0 \\\\\n",
        "&\\text{Define base }e\\text{ as the unique number so that }M(e)=1 \\\\\n",
        "\\implies \\frac{d}{dx} e^x &= e^x \\\\\n",
        "\\frac{d}{dx} e^x\\vert_{x=0} &= 1 \\\\\n",
        "\\end{aligned}\n",
        "$$\n",
        "\n",
        "## Natural Log\n",
        "\n",
        "$$\n",
        "\\begin{aligned}\n",
        "w &= \\ln x \\\\\n",
        "y &= e^x \\leftrightarrow \\ln y = x & \\text{defines}\\ln \\\\\n",
        "\\text{Properties } & \\ln(x_1x_2) = \\ln x_1 + \\ln x_2 \\\\\n",
        "& \\ln 1 = 0, \\ln e = 1 \\\\\n",
        "\\end{aligned}\n",
        "$$\n",
        "\n",
        "### So the magic number\n",
        "\n",
        "$$\n",
        "M(a) = \\ln a \n",
        "$$"
      ]
    },
    {
      "cell_type": "code",
      "metadata": {
        "colab": {
          "base_uri": "https://localhost:8080/",
          "height": 265
        },
        "id": "A2hyf0ja-IGo",
        "outputId": "d7989db8-833f-4b95-878d-cb00ee2505e3"
      },
      "source": [
        "import matplotlib.pyplot as plt\n",
        "import numpy as np\n",
        "x = np.linspace(-1,1.5,100)\n",
        "y = np.exp(x)\n",
        "plt.plot(x,np.exp(x),label=r'$e^x$')\n",
        "x = np.linspace(.02,3,100)\n",
        "plt.plot(x,np.log(x),label=r'$\\ln x$')\n",
        "plt.gca().set_aspect('equal')\n",
        "plt.legend()\n",
        "plt.show()"
      ],
      "execution_count": 40,
      "outputs": [
        {
          "output_type": "display_data",
          "data": {
            "image/png": "[encoded data removed]",
            "text/plain": [
              "<Figure size 432x288 with 1 Axes>"
            ]
          },
          "metadata": {
            "tags": [],
            "needs_background": "light"
          }
        }
      ]
    },
    {
      "cell_type": "markdown",
      "metadata": {
        "id": "3uBtaW13_6Ex"
      },
      "source": [
        "$$\n",
        "\\begin{aligned}\n",
        "\\text{Find }\\frac{d}{dx} \\ln x &= \\\\\n",
        "& \\text{use implicit differentiation} \\\\\n",
        "w &= \\ln x \\implies e^w = x & \\text{since }e^{\\ln x}=x\\\\\n",
        "\\frac{d}{dx} e^w &= \\frac{d}{dx} x = 1 \\\\\n",
        "\\left( \\frac{d}{dw} e^w \\right) \\left( \\frac{dw}{dx} \\right) &= 1 \\\\\n",
        "e^w \\frac{d}{dw} &= 1 \\\\\n",
        "\\frac{dw}{dx} &= \\frac{1}{e^w} \\\\\n",
        "\\frac{d}{dx} \\ln x &= \\boxed{ \\frac{1}{x} } \\\\\n",
        "\\end{aligned}\n",
        "$$"
      ]
    },
    {
      "cell_type": "markdown",
      "metadata": {
        "id": "-gNgb74iCaeQ"
      },
      "source": [
        "## Differentiate an exponential $a^x$\n",
        " \n",
        "$$\n",
        "\\begin{aligned}\n",
        "\\frac{d}{dx} a^x &= \\frac{d}{dx} (e^{\\ln a})^x \\\\\n",
        "&= \\frac{d}{dx} e^{x\\ln a} \\\\\n",
        "&= e^{x \\ln a} \\ln a \\\\\n",
        "&= a^x \\ln a \\\\\n",
        "\\end{aligned}\n",
        "$$\n"
      ]
    },
    {
      "cell_type": "code",
      "metadata": {
        "colab": {
          "base_uri": "https://localhost:8080/",
          "height": 281
        },
        "id": "tyT0xMTTEBDP",
        "outputId": "5087be1f-b015-40cf-e21c-8c356a0044bf"
      },
      "source": [
        "import matplotlib.pyplot as plt\n",
        "import numpy as np\n",
        "a = 2\n",
        "x = np.linspace(-1.1,2.1,100)\n",
        "y = a**x\n",
        "plt.plot(x,y,label=r'$a^x, a=2$')\n",
        "plt.xlim(-2,2)\n",
        "#plt.yticks([-1,0,1])\n",
        "#plt.gca().set_aspect('equal')\n",
        "#plt.grid()\n",
        "\n",
        "# hor=left,right,center\n",
        "# ver='center', 'top', 'bottom', 'baseline', 'center_baseline'\n",
        "def dot(x0,y0,hor='center',ver='center'):\n",
        "  plt.scatter(x0,y0, s=10, color='green', marker='o')\n",
        "  txt = \"({0},{1})\".format(x0,y0)\n",
        "  plt.text(x0,y0,txt,ha=hor,va=ver)\n",
        "\n",
        "dot(0,1,'right','bottom')\n",
        "dot(-1,.5,'right','bottom')\n",
        "dot(1,2,'left','top')\n",
        "#plt.title(r'$y=2^x$')\n",
        "\n",
        "x0=0\n",
        "y0=2**x0\n",
        "delta=.5\n",
        "xs = np.array([x0-delta,x0+delta]) \n",
        "# (y-y0)=m(x-x0)\n",
        "# y=a^x0 ln a (x -x0) + a^x0\n",
        "ys = a**x0 * np.log(a) * (xs - x0) + a**x0\n",
        "plt.plot(xs,ys,label=r'$\\tan=a^x \\ln a$')\n",
        "\n",
        "x0=1\n",
        "y0=2**x0\n",
        "delta=.5\n",
        "xs = np.array([x0-delta,x0+delta]) \n",
        "# (y-y0)=m(x-x0)\n",
        "# m = a^x0 ln a  -- slope at point x0\n",
        "# y=a^x0 ln a (x -x0) + a^x0\n",
        "m = a**x0 * np.log(a)\n",
        "ys = m * (xs - x0) + a**x0\n",
        "plt.plot(xs,ys,label=r'$\\tan=a^x \\ln a$')\n",
        "\n",
        "plt.legend(loc='best')\n",
        "\n",
        "plt.title('Derivative of exponential')\n",
        "plt.show()"
      ],
      "execution_count": 53,
      "outputs": [
        {
          "output_type": "display_data",
          "data": {
            "image/png": "[encoded data removed]",
            "text/plain": [
              "<Figure size 432x288 with 1 Axes>"
            ]
          },
          "metadata": {
            "tags": [],
            "needs_background": "light"
          }
        }
      ]
    },
    {
      "cell_type": "markdown",
      "metadata": {
        "id": "JHLQ8525HcWM"
      },
      "source": [
        "## Method 2 Logarithmic differentiation\n",
        "\n",
        "$$\n",
        "\\begin{aligned}\n",
        "\\frac{d}{dx} u &= ??,\\text{ instead } \\frac{d}{dx} \\ln x \\\\\n",
        "&= \\frac{d \\ln u}{du} \\frac{du }{dx} = \\frac{1}{u} \\frac{du}{dx} \\\\\n",
        "(\\ln u)^\\prime &= \\frac{u^\\prime}{u} \\\\ \n",
        "\\text{So }\\frac{d}{dx} a^x &= \\\\\n",
        "u& =a^x\\\\\n",
        " \\ln u &= x \\ln a \\\\\n",
        " (\\ln u)^\\prime &= \\ln a \\\\\n",
        " \\frac{u^\\prime}{u} &= (\\ln u)^\\prime = \\ln a \\\\\n",
        " u^\\prime &= u \\ln a \\\\\n",
        " \\frac{d}{dx} a^x &= u \\ln a = \\boxed{ a^x \\ln a } \\\\ \n",
        "\\end{aligned}\n",
        "$$"
      ]
    },
    {
      "cell_type": "markdown",
      "metadata": {
        "id": "y-Ut-68lMRFi"
      },
      "source": [
        "## Example differentiate $x^x$\n",
        "$$\n",
        "\\begin{aligned}\n",
        "u &= x^x \\\\\n",
        "( \\ln u  )^\\prime = \\frac{u^\\prime}{u} \\\\\n",
        "\\ln u &= x \\ln x \\\\\n",
        "(ln u)^\\prime &= 1\\ln x + x\\frac{1}{x} & \\text{chain rule} \\\\\n",
        "&= ( \\ln x ) + 1 \\\\\n",
        "\\frac{u^\\prime}{u} &= \\ln x + 1 \\\\\n",
        "u^\\prime &= x^x ( \\ln x + 1 ) \\\\\n",
        "\\end{aligned}\n",
        "$$"
      ]
    },
    {
      "cell_type": "code",
      "metadata": {
        "colab": {
          "base_uri": "https://localhost:8080/",
          "height": 265
        },
        "id": "w85Fz_tPp41G",
        "outputId": "536848b5-94dc-4ad3-a18a-e24d4f08044f"
      },
      "source": [
        "#\n",
        "# prove visually\n",
        "#\n",
        "import matplotlib.pyplot as plt\n",
        "import numpy as np\n",
        "x = np.linspace(0.001,1.2,100)\n",
        "y = x**x\n",
        "plt.plot(x,y,label=r'$x^x$')\n",
        "\n",
        "def dot(x0,y0,hor='center',ver='center'):\n",
        "  plt.scatter(x0,y0, s=10, color='green', marker='o')\n",
        "  txt = \"({:+.2f},{:+.2f})\".format(x0,y0)\n",
        "  plt.text(x0,y0,txt,ha=hor,va=ver)\n",
        "\n",
        "x0=.8\n",
        "y0=x0**x0\n",
        "dot(x0,y0,'right','bottom')\n",
        "\n",
        "delta=.2\n",
        "xs=np.array([x0-delta,x0+delta])\n",
        "# slope is fixed at x0, solve\n",
        "m= y0*(np.log(x0)+1)\n",
        "ys = m * (xs - x0) + y0\n",
        "plt.plot(xs,ys,label=r'tan=x^x(\\ln x + 1)')\n",
        "\n",
        "x0=.1\n",
        "y0=x0**x0\n",
        "dot(x0,y0,'left','bottom')\n",
        "\n",
        "delta=.1\n",
        "xs=np.array([x0-delta,x0+delta])\n",
        "# slope is fixed at x0, solve\n",
        "m= y0*(np.log(x0)+1)\n",
        "ys = m * (xs - x0) + y0\n",
        "plt.plot(xs,ys,label=r'tan=x^x(\\ln x + 1)')\n",
        "\n",
        "plt.legend()\n",
        "plt.show()"
      ],
      "execution_count": 63,
      "outputs": [
        {
          "output_type": "display_data",
          "data": {
            "image/png": "[encoded data removed]",
            "text/plain": [
              "<Figure size 432x288 with 1 Axes>"
            ]
          },
          "metadata": {
            "tags": [],
            "needs_background": "light"
          }
        }
      ]
    },
    {
      "cell_type": "markdown",
      "metadata": {
        "id": "6aZdN4bSSM_t"
      },
      "source": [
        "## Find $\\lim_{x \\to \\infty} \\left(1+\\frac{1}{x}\\right)^x$\n",
        "\n",
        "$$\n",
        "\\begin{aligned}\n",
        "\\ln \\left( \\left( 1+\\frac{1}{n} \\right)^n \\right) &= n \\ln \\left(1+\\frac{1}{n}\\right) \\\\\n",
        "\\Delta x &= \\frac{1}{n} \\to 0 \\\\\n",
        "&= \\frac{1}{\\Delta x} \\ln \\left( 1 + \\Delta x \\right)  \\\\\n",
        "&= \\frac{1}{\\Delta x} \\left( \\ln \\left( 1 + \\Delta x \\right)  - \\ln 1 \\right) & \\ln 1 = 0 \\\\ \n",
        "\\text{Since } \\left( \\ln \\left( 1 + \\Delta x \\right)  - \\ln 1 \\right) &= \\frac{d}{dx} \\ln x \\vert_{x=1} & \\text{evaluated at }x=1\\\\\n",
        "&= \\frac{1}{x}\\vert_{x=1} = 1 \\\\\n",
        "\\text{Solving } & \\lim_{x \\to \\infty} \\left(1+\\frac{1}{x}\\right)^x \\\\\n",
        "\\text{Having} & \\lim_{x \\to \\infty} \\ln \\left(1+\\frac{1}{x}\\right)^x = 1 \\\\\n",
        "\\text{ So } & e^\\left[ \\lim_{x \\to \\infty} \\ln \\left(1+\\frac{1}{x}\\right)^x \\right] = e^1 = e \\\\ \n",
        "\\end{aligned}\n",
        "$$"
      ]
    },
    {
      "cell_type": "markdown",
      "metadata": {
        "id": "P70Nws2qXcj0"
      },
      "source": [
        "### Find $\\frac{d}{dx}x^r$\n",
        "\n",
        "Powers using exponentials\n",
        "\n",
        "$$\n",
        "\\begin{aligned}\n",
        "\\frac{d}{dx} x^r &=  (e^{r \\ln x })^{\\prime}  \\\\\n",
        "&= e^{r \\ln x} \\frac{r}{x} \\\\\n",
        "&= x^r \\frac{r}{x} \\\\\n",
        "&= rx^{r-1} \\\\\n",
        "\\end{aligned}\n",
        "$$"
      ]
    },
    {
      "cell_type": "markdown",
      "metadata": {
        "id": "RlhEwW7TZVqh"
      },
      "source": [
        "Using logarithmic differentiation\n",
        "\n",
        "$$\n",
        "\\begin{aligned}\n",
        "u &= x^r \\\\\n",
        "(\\ln u)^\\prime &= \\frac{u^\\prime}{u} \\\\\n",
        "\\ln u &= r \\ln x \\\\\n",
        "(\\ln u)^\\prime = \\frac{r}{x} \\\\\n",
        "\\frac{u^\\prime}{u} &= \\frac{r}{x} \\\\\n",
        "u^\\prime &= \\frac{r}{x} u \\\\\n",
        "&= \\frac{r}{x}x^r \\\\\n",
        "&= rx^{r-1} \\\\\n",
        "\\end{aligned}\n",
        "$$"
      ]
    },
    {
      "cell_type": "code",
      "metadata": {
        "id": "416xsjVMZXs8"
      },
      "source": [
        ""
      ],
      "execution_count": null,
      "outputs": []
    }
  ]
}