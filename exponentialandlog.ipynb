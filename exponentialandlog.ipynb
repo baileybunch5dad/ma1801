{
  "nbformat": 4,
  "nbformat_minor": 0,
  "metadata": {
    "colab": {
      "name": "exponentialandlog.ipynb",
      "provenance": [],
      "authorship_tag": "ABX9TyOMpiUZ880vJ1gAEXzBVGge",
      "include_colab_link": true
    },
    "kernelspec": {
      "name": "python3",
      "display_name": "Python 3"
    }
  },
  "cells": [
    {
      "cell_type": "markdown",
      "metadata": {
        "id": "view-in-github",
        "colab_type": "text"
      },
      "source": [
        "<a href=\"https://colab.research.google.com/github/baileybunch5dad/ma1801/blob/main/exponentialandlog.ipynb\" target=\"_parent\"><img src=\"https://colab.research.google.com/assets/colab-badge.svg\" alt=\"Open In Colab\"/></a>"
      ]
    },
    {
      "cell_type": "markdown",
      "metadata": {
        "id": "NRP28r1Np8e9"
      },
      "source": [
        "## Exponents and Logarithms\n",
        "\n",
        "$$\n",
        "\\begin{aligned}\n",
        "a>0 \\quad &  a^0=1, \\quad a^1=1 \\quad a^2=aa \\\\\n",
        "\\text{base} \\quad & a^{x_1+x_2} = a^{x_1}a^{x_2} \\\\\n",
        "& (a^{x_1})^{x_2}=a^{x_1x_2}\\\\\n",
        "& a^{m/n} = \\sqrt[n]{a^m} \\\\\n",
        "\\frac{d}{dx} a^x &= \\lim_{\\Delta x \\to 0} \\frac{a^{x+\\Delta x}-a^x}{\\Delta x}\\\\\n",
        "&= \\lim_{\\Delta x \\to 0} a^x \\frac{a^{\\Delta x}-1}{\\Delta x} \\\\\n",
        "\\frac{d}{dx} a^x &= a^x \\left( \\lim_{\\Delta x \\to 0} \\frac{a^{\\Delta x}-1}{\\Delta x} \\right) \\\\\n",
        "\\text{Define } M(a) &= \\lim_{\\Delta x \\to 0} \\frac{a^{\\Delta x}-1}{\\Delta x} \\\\\n",
        "\\frac{d}{dx} a^x &= M(a) a^x \\\\\n",
        "\\text{at }x&=0 \\\\\n",
        "\\frac{d}{dx}a^x\\vert_{x=0} &= M(a)a^0 = M(a) \\\\\n",
        "& M(a) \\text{ is the slope of }a^x\\text{ at }x=0 \\\\\n",
        "&\\text{Define base }e\\text{ as the unique number so that }M(e)=1 \\\\\n",
        "\\implies \\frac{d}{dx} e^x &= e^x \\\\\n",
        "\\frac{d}{dx} e^x\\vert_{x=0} &= 1 \\\\\n",
        "\\end{aligned}\n",
        "$$\n",
        "\n",
        "## Natural Log\n",
        "\n",
        "$$\n",
        "\\begin{aligned}\n",
        "w &= \\ln x \\\\\n",
        "y &= e^x \\leftrightarrow \\ln y = x & \\text{defines}\\ln \\\\\n",
        "\\text{Properties } & \\ln(x_1x_2) = \\ln x_1 + \\ln x_2 \\\\\n",
        "& \\ln 1 = 0, \\ln e = 1 \\\\\n",
        "\\end{aligned}\n",
        "$$\n"
      ]
    },
    {
      "cell_type": "code",
      "metadata": {
        "colab": {
          "base_uri": "https://localhost:8080/",
          "height": 265
        },
        "id": "A2hyf0ja-IGo",
        "outputId": "d7989db8-833f-4b95-878d-cb00ee2505e3"
      },
      "source": [
        "import matplotlib.pyplot as plt\n",
        "import numpy as np\n",
        "x = np.linspace(-1,1.5,100)\n",
        "y = np.exp(x)\n",
        "plt.plot(x,np.exp(x),label=r'$e^x$')\n",
        "x = np.linspace(.02,3,100)\n",
        "plt.plot(x,np.log(x),label=r'$\\ln x$')\n",
        "plt.gca().set_aspect('equal')\n",
        "plt.legend()\n",
        "plt.show()"
      ],
      "execution_count": 40,
      "outputs": [
        {
          "output_type": "display_data",
          "data": {
            "image/png": "[encoded data removed]",
            "text/plain": [
              "<Figure size 432x288 with 1 Axes>"
            ]
          },
          "metadata": {
            "tags": [],
            "needs_background": "light"
          }
        }
      ]
    },
    {
      "cell_type": "markdown",
      "metadata": {
        "id": "3uBtaW13_6Ex"
      },
      "source": [
        "$$\n",
        "\\begin{aligned}\n",
        "\\text{Find }\\frac{d}{dx} \\ln x &= \\\\\n",
        "& \\text{use implicit differentiation} \\\\\n",
        "w &= \\ln x \\implies e^w = x & \\text{since }e^{\\ln x}=x\\\\\n",
        "\\frac{d}{dx} e^w &= \\frac{d}{dx} x = 1 \\\\\n",
        "\\left( \\frac{d}{dw} e^w \\right) \\left( \\frac{dw}{dx} \\right) &= 1 \\\\\n",
        "e^w \\frac{d}{dw} &= 1 \\\\\n",
        "\\frac{dw}{dx} &= \\frac{1}{e^w} \\\\\n",
        "\\frac{d}{dx} \\ln x &= \\boxed{ \\frac{1}{x} } \\\\\n",
        "\\end{aligned}\n",
        "$$"
      ]
    },
    {
      "cell_type": "markdown",
      "metadata": {
        "id": "-gNgb74iCaeQ"
      },
      "source": [
        "## Differentiate an exponential $a^x$\n",
        " \n",
        "$$\n",
        "\\begin{aligned}\n",
        "\\frac{d}{dx} a^x &= \\frac{d}{dx} (e^{\\ln a})^x \\\\\n",
        "&= \\frac{d}{dx} e^{x\\ln a} \\\\\n",
        "&= e^{x \\ln a} \\ln a \\\\\n",
        "&= a^x \\ln a \\\\\n",
        "\\end{aligned}\n",
        "$$\n"
      ]
    },
    {
      "cell_type": "code",
      "metadata": {
        "colab": {
          "base_uri": "https://localhost:8080/",
          "height": 281
        },
        "id": "tyT0xMTTEBDP",
        "outputId": "5087be1f-b015-40cf-e21c-8c356a0044bf"
      },
      "source": [
        "import matplotlib.pyplot as plt\n",
        "import numpy as np\n",
        "a = 2\n",
        "x = np.linspace(-1.1,2.1,100)\n",
        "y = a**x\n",
        "plt.plot(x,y,label=r'$a^x, a=2$')\n",
        "plt.xlim(-2,2)\n",
        "#plt.yticks([-1,0,1])\n",
        "#plt.gca().set_aspect('equal')\n",
        "#plt.grid()\n",
        "\n",
        "# hor=left,right,center\n",
        "# ver='center', 'top', 'bottom', 'baseline', 'center_baseline'\n",
        "def dot(x0,y0,hor='center',ver='center'):\n",
        "  plt.scatter(x0,y0, s=10, color='green', marker='o')\n",
        "  txt = \"({0},{1})\".format(x0,y0)\n",
        "  plt.text(x0,y0,txt,ha=hor,va=ver)\n",
        "\n",
        "dot(0,1,'right','bottom')\n",
        "dot(-1,.5,'right','bottom')\n",
        "dot(1,2,'left','top')\n",
        "#plt.title(r'$y=2^x$')\n",
        "\n",
        "x0=0\n",
        "y0=2**x0\n",
        "delta=.5\n",
        "xs = np.array([x0-delta,x0+delta]) \n",
        "# (y-y0)=m(x-x0)\n",
        "# y=a^x0 ln a (x -x0) + a^x0\n",
        "ys = a**x0 * np.log(a) * (xs - x0) + a**x0\n",
        "plt.plot(xs,ys,label=r'$\\tan=a^x \\ln a$')\n",
        "\n",
        "x0=1\n",
        "y0=2**x0\n",
        "delta=.5\n",
        "xs = np.array([x0-delta,x0+delta]) \n",
        "# (y-y0)=m(x-x0)\n",
        "# m = a^x0 ln a  -- slope at point x0\n",
        "# y=a^x0 ln a (x -x0) + a^x0\n",
        "m = a**x0 * np.log(a)\n",
        "ys = m * (xs - x0) + a**x0\n",
        "plt.plot(xs,ys,label=r'$\\tan=a^x \\ln a$')\n",
        "\n",
        "plt.legend(loc='best')\n",
        "\n",
        "plt.title('Derivative of exponential')\n",
        "plt.show()"
      ],
      "execution_count": 53,
      "outputs": [
        {
          "output_type": "display_data",
          "data": {
            "image/png": "[encoded data removed]",
            "text/plain": [
              "<Figure size 432x288 with 1 Axes>"
            ]
          },
          "metadata": {
            "tags": [],
            "needs_background": "light"
          }
        }
      ]
    },
    {
      "cell_type": "code",
      "metadata": {
        "id": "w85Fz_tPp41G"
      },
      "source": [
        ""
      ],
      "execution_count": null,
      "outputs": []
    }
  ]
}