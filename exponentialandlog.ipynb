{
  "nbformat": 4,
  "nbformat_minor": 0,
  "metadata": {
    "colab": {
      "name": "exponentialandlog.ipynb",
      "provenance": [],
      "authorship_tag": "ABX9TyOyNIkne7PxuAjCIZFlr/Gv",
      "include_colab_link": true
    },
    "kernelspec": {
      "name": "python3",
      "display_name": "Python 3"
    }
  },
  "cells": [
    {
      "cell_type": "markdown",
      "metadata": {
        "id": "view-in-github",
        "colab_type": "text"
      },
      "source": [
        "<a href=\"https://colab.research.google.com/github/baileybunch5dad/ma1801/blob/main/exponentialandlog.ipynb\" target=\"_parent\"><img src=\"https://colab.research.google.com/assets/colab-badge.svg\" alt=\"Open In Colab\"/></a>"
      ]
    },
    {
      "cell_type": "markdown",
      "metadata": {
        "id": "NRP28r1Np8e9"
      },
      "source": [
        "$$\n",
        "\\begin{aligned}\n",
        "a>0 \\quad &  a^0=1, \\quad a^1=1 \\quad a^2=aa \\\\\n",
        "\\text{base} \\quad & a^{x_1+x_2} = a^{x_1}a^{x_2} \\\\\n",
        "& (a^{x_1})^{x_2}=a^{x_1x_2}\\\\\n",
        "& a^{m/n} = \\sqrt[n]{a^m} \\\\\n",
        "\\end{aligned}\n",
        "$$\n"
      ]
    },
    {
      "cell_type": "code",
      "metadata": {
        "colab": {
          "base_uri": "https://localhost:8080/",
          "height": 265
        },
        "id": "U-93oR4Kp8G5",
        "outputId": "2d5b474a-fdcd-4ac4-e085-3a1c5e3138b7"
      },
      "source": [
        "import matplotlib.pyplot as plt\n",
        "import numpy as np\n",
        "x = np.linspace(-1.1,2.1,100)\n",
        "y = 2**x\n",
        "plt.plot(x,y,label=r'$2^x$')\n",
        "plt.xlim(-2,2)\n",
        "#plt.yticks([-1,0,1])\n",
        "plt.gca().set_aspect('equal')\n",
        "#plt.grid()\n",
        "\n",
        "# hor=left,right,center\n",
        "# ver='center', 'top', 'bottom', 'baseline', 'center_baseline'\n",
        "def dot(x0,y0,hor='center',ver='center'):\n",
        "  plt.scatter(x0,y0, s=10, color='green', marker='o')\n",
        "  txt = \"({0},{1})\".format(x0,y0)\n",
        "  plt.text(x0,y0,txt,ha=hor,va=ver)\n",
        "\n",
        "dot(0,1,'right','bottom')\n",
        "dot(-1,.5,'right','bottom')\n",
        "dot(1,2,'left','top')\n",
        "delta=1\n",
        "\n",
        "plt.show()\n"
      ],
      "execution_count": 28,
      "outputs": [
        {
          "output_type": "display_data",
          "data": {
            "image/png": "[encoded data removed]",
            "text/plain": [
              "<Figure size 432x288 with 1 Axes>"
            ]
          },
          "metadata": {
            "tags": [],
            "needs_background": "light"
          }
        }
      ]
    },
    {
      "cell_type": "code",
      "metadata": {
        "id": "w85Fz_tPp41G"
      },
      "source": [
        ""
      ],
      "execution_count": null,
      "outputs": []
    }
  ]
}