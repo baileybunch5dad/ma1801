{
  "nbformat": 4,
  "nbformat_minor": 0,
  "metadata": {
    "colab": {
      "name": "derivativelnsec.ipynb",
      "provenance": [],
      "authorship_tag": "ABX9TyOK0PKI7K9k2P5qoHAdkJb7",
      "include_colab_link": true
    },
    "kernelspec": {
      "name": "python3",
      "display_name": "Python 3"
    }
  },
  "cells": [
    {
      "cell_type": "markdown",
      "metadata": {
        "id": "view-in-github",
        "colab_type": "text"
      },
      "source": [
        "<a href=\"https://colab.research.google.com/github/baileybunch5dad/ma1801/blob/main/derivativelnsec.ipynb\" target=\"_parent\"><img src=\"https://colab.research.google.com/assets/colab-badge.svg\" alt=\"Open In Colab\"/></a>"
      ]
    },
    {
      "cell_type": "markdown",
      "metadata": {
        "id": "-xC4uwVMek5H"
      },
      "source": [
        "## Find $\\frac{d}{dx} \\ln ( \\sec x ) $\n",
        "\n",
        "First find $\\frac{d}{dx} \\sec x $ \n",
        "\n",
        "$$\n",
        "\\begin{aligned}\n",
        "\\frac{d}{dx} \\sec x &= \\frac{d}{dx} (\\cos x)^{-1} \\\\\n",
        "&= - (\\cos x)^{-2} (-\\sin x ) \\\\\n",
        "&= \\frac{1}{\\cos x} \\frac{\\sin x}{\\cos x} \\\\\n",
        "&= \\sec x \\tan x \n",
        "\\end{aligned}\n",
        "$$\n",
        "\n",
        "Since\n",
        "\n",
        "$$\n",
        "\\begin{aligned}\n",
        "(\\ln u)^\\prime &= \\frac{u^\\prime}{u} \\\\\n",
        "\\frac{d}{dx} \\ln (\\sec x) &= \\frac{(\\sec x)^\\prime}{\\sec x} \\\\\n",
        "&= \\frac{\\sec x \\tan x}{\\sec x} \\\\\n",
        "&= \\tan x \n",
        "\\end{aligned}\n",
        "$$"
      ]
    },
    {
      "cell_type": "code",
      "metadata": {
        "colab": {
          "base_uri": "https://localhost:8080/",
          "height": 265
        },
        "id": "c4zJzsIsef8B",
        "outputId": "bce00436-76b4-40be-eedd-2ac5842cc3c1"
      },
      "source": [
        "import matplotlib.pyplot as plt\n",
        "import numpy as np\n",
        "import math\n",
        "x = np.linspace(math.pi/3,math.pi/2-.01,200)\n",
        "plt.plot(x,ff(x),label=r'$\\ln \\sec x$')\n",
        "def ff(x): return np.log(1/np.cos(x))\n",
        "def fp(x): return np.tan(x)\n",
        "\n",
        "def dot(x0,y0,hor='center',ver='center'):\n",
        "  plt.scatter(x0,y0, s=10, color='green', marker='o')\n",
        "  txt = \"({:.2f},{:.2f})\".format(x0,y0)\n",
        "  plt.text(x0,y0,txt,ha=hor,va=ver)\n",
        "\n",
        "x0=1.4\n",
        "y0=ff(x0)\n",
        "dot(x0,y0,'right','bottom')\n",
        "delta=.2\n",
        "xs = np.array([x0-delta,x0+delta]) \n",
        "# instantaneous slope at x0\n",
        "m = fp(x0)\n",
        "ys = m * (xs-x0) + y0\n",
        "plt.plot(xs,ys,label=r'$\\frac{d}{dx} \\ln \\sec x$')\n",
        "plt.legend()\n",
        "plt.show()"
      ],
      "execution_count": 22,
      "outputs": [
        {
          "output_type": "display_data",
          "data": {
            "image/png": "[encoded data removed]",
            "text/plain": [
              "<Figure size 432x288 with 1 Axes>"
            ]
          },
          "metadata": {
            "tags": [],
            "needs_background": "light"
          }
        }
      ]
    }
  ]
}