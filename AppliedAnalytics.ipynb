{
  "nbformat": 4,
  "nbformat_minor": 0,
  "metadata": {
    "colab": {
      "name": "AppliedAnalytics.ipynb",
      "provenance": [],
      "authorship_tag": "ABX9TyNo1EZt6VbtmHZ2wITheOKc",
      "include_colab_link": true
    },
    "kernelspec": {
      "name": "python3",
      "display_name": "Python 3"
    }
  },
  "cells": [
    {
      "cell_type": "markdown",
      "metadata": {
        "id": "view-in-github",
        "colab_type": "text"
      },
      "source": [
        "<a href=\"https://colab.research.google.com/github/baileybunch5dad/ma1801/blob/main/AppliedAnalytics.ipynb\" target=\"_parent\"><img src=\"https://colab.research.google.com/assets/colab-badge.svg\" alt=\"Open In Colab\"/></a>"
      ]
    },
    {
      "cell_type": "markdown",
      "metadata": {
        "id": "GtTLdbn2IUBV"
      },
      "source": [
        "### Slope of a Skateboard/Snowboard Halfpipe\n",
        "\n",
        "A pitch of a roof is $\\frac{\\text{rise}}{\\text{run}}$ is the same as $\\frac{y_2-y_1}{x_2-x_1}$ but what about a curve like a halfpipe. If it goes up more and more steeply as it goes out and at 20 feet out is is 20 feet high, what is its slope at 5 feet, or 15\n",
        "\n",
        "Height, $y$, is $\\frac{1}{20}x^2$ is $f(x)$\n",
        "\n",
        "Now take a teeny tiny addition to distance out to figure out slope\n",
        "\n",
        "$$\n",
        "\\frac{y_2-y_1}{x_2-x_1} = \\frac{f(x+\\text{tiny})-f(x))}{(x+\\text{tiny})-x} \n",
        "$$\n",
        "Plugging in $f(x)$\n",
        "$$\n",
        "\\frac{\\frac{1}{20}(x+\\text{tiny})^2-\\frac{1}{20}x^2}{x+\\text{tiny}-x}\n",
        "=\n",
        "\\frac{\\frac{1}{20}x^2+\\frac{2}{20}x\\cdot\\text{tiny}+\\frac{1}{20}\\text{tiny}^2-\\frac{1}{20}x^2}{\\text{tiny}}=\\frac{1}{10}x+\\frac{1}{10}\\text{tiny}^2\n",
        "$$\n",
        "Since tiny is 0 this is $\\frac{1}{10}x$\n",
        "\n",
        "Now show the slope for 5 feet or 15 feet"
      ]
    },
    {
      "cell_type": "code",
      "metadata": {
        "colab": {
          "base_uri": "https://localhost:8080/",
          "height": 217
        },
        "id": "vRiBBmf2IKoW",
        "outputId": "57f3b973-c0a1-44df-8e73-b22e9785771a"
      },
      "source": [
        "import matplotlib.pyplot as plt\n",
        "import numpy as np\n",
        "def fx(x): return 1/20*x**2\n",
        "def fpx(x): return 1/10*x\n",
        "\n",
        "x = np.linspace(-20,20,100)\n",
        "plt.plot(x,fx(x),label='halfpipe')\n",
        "for x0 in [5,15]:\n",
        "  x = np.linspace(x0-3,x0+3,20)\n",
        "  m = fpx(x0)\n",
        "  plt.plot(x,fpx(x0)*(x-x0)+fx(x0),label='Slope at '+str(x0)+' is '+str(m))\n",
        "plt.legend()\n",
        "plt.gca().set_aspect('equal')\n",
        "plt.show()  \n",
        "  "
      ],
      "execution_count": 8,
      "outputs": [
        {
          "output_type": "display_data",
          "data": {
            "image/png": "[encoded data removed]",
            "text/plain": [
              "<Figure size 432x288 with 1 Axes>"
            ]
          },
          "metadata": {
            "tags": [],
            "needs_background": "light"
          }
        }
      ]
    }
  ]
}