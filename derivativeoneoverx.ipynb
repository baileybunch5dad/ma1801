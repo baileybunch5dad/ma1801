{
  "nbformat": 4,
  "nbformat_minor": 0,
  "metadata": {
    "colab": {
      "name": "derivativeoneoverx.ipynb",
      "provenance": [],
      "authorship_tag": "ABX9TyO0hjJ515vXeaq5kkgeY4Mn",
      "include_colab_link": true
    },
    "kernelspec": {
      "name": "python3",
      "display_name": "Python 3"
    }
  },
  "cells": [
    {
      "cell_type": "markdown",
      "metadata": {
        "id": "view-in-github",
        "colab_type": "text"
      },
      "source": [
        "<a href=\"https://colab.research.google.com/github/baileybunch5dad/ma1801/blob/main/derivativeoneoverx.ipynb\" target=\"_parent\"><img src=\"https://colab.research.google.com/assets/colab-badge.svg\" alt=\"Open In Colab\"/></a>"
      ]
    },
    {
      "cell_type": "markdown",
      "metadata": {
        "id": "SJzL8et1Z2pP"
      },
      "source": [
        "# Derivatives\n",
        "\n",
        "$$\n",
        "\\frac{d}{dx} f(x) = f^\\prime(x) = \\frac{df}{dx} = \\lim_{\\Delta x \\to 0}\\frac{f(x + \\Delta x)-f(x)}{(x + \\Delta x) - x} = \\lim_{\\Delta x \\to 0}\\frac{f(x + \\Delta x)-f(x)}{\\Delta x} \n",
        "$$"
      ]
    },
    {
      "cell_type": "markdown",
      "metadata": {
        "id": "_GVX8WX0Ol4c"
      },
      "source": [
        "## Prove $\\frac{d}{dx} \\frac{1}{x} = -\\frac{1}{x^2}$\n",
        "\n",
        "Proof\n",
        "\n",
        "$$\n",
        "\\begin{aligned}\n",
        "\\frac{d}{dx} \\frac{1}{x} &= \\lim_{\\Delta x \\to 0} \\frac{\\frac{1}{x + \\Delta x}-\\frac{1}{x}}{\\Delta x} \\\\\n",
        "&= \\lim_{\\Delta x \\to 0} \\frac{1}{\\Delta x} \\left( \\frac{x - (x+\\Delta x)}{x(x+\\Delta x)} \\right) \\\\\n",
        "&= \\lim_{\\Delta x \\to 0}\\frac{1}{\\Delta x} \\left( \\frac{-\\Delta x}{x(x+\\Delta x)} \\right) \\\\\n",
        "&=  \\lim_{\\Delta x \\to 0} \\frac{-1}{x(x+\\Delta x)} \\\\\n",
        "&=   -\\frac{1}{x^2} \\\\\n",
        "\\end{aligned}\n",
        "$$\n"
      ]
    },
    {
      "cell_type": "markdown",
      "metadata": {
        "id": "UxEe-5HXQxsq"
      },
      "source": [
        "Use the derivative to find the x and y intercept at given $x=x_0,y=y_0=f(x_0)$\n",
        "\n",
        "\n",
        "$$\n",
        "\\begin{aligned}\n",
        "(y-y_0) &= m(x-x_0) \\\\\n",
        "m &= -\\frac{1}{x_0^2} \\\\\n",
        "(y-y_0) &= -\\frac{1}{x_0^2} (x-x_0) \\\\\n",
        "y &= 0 & x\\text{ intercept} \\\\\n",
        "y_0 &= f(x_0) = 1/x = 2 \\\\\n",
        "(0-\\frac{1}{x_0}) &= -\\frac{1}{x_0^2} ( x-x_0 ) \\\\\n",
        "-x_0 &= -x + x_0 \\\\\n",
        "x &= 2 x_0 & \\text{x intercept=}(2x_0,0)\\\\\n",
        "\\end{aligned}\n",
        "$$\n",
        "\n",
        "By symmetry since \\$y=1/x \\implies x=1/y$\n",
        "\n",
        "$$\n",
        "\\begin{aligned}\n",
        "y &= 2y_0 & \\text{y intercept=}(0,2y_0) \\\\\n",
        "\\end{aligned}\n",
        "$$"
      ]
    },
    {
      "cell_type": "code",
      "metadata": {
        "colab": {
          "base_uri": "https://localhost:8080/",
          "height": 265
        },
        "id": "EmbB1GwvOkPu",
        "outputId": "59df5de0-06b7-4d20-ee1e-ed9ddf8ede90"
      },
      "source": [
        "import numpy as np\n",
        "import math\n",
        "import matplotlib.pyplot as plt\n",
        "x = np.linspace(.1,3,100)\n",
        "y = 1/x\n",
        "plt.plot(x,y,color='blue',label=r'$1/x$')\n",
        "# at the point x=.5 draw the tangent\n",
        "delta=.02\n",
        "x = np.linspace(.5-delta,.5+delta,100)\n",
        "y = -1/(x**2)\n",
        "x0=.7\n",
        "y0=1/x0\n",
        "plt.scatter(x0,y0, s=10, color='green', marker='o')\n",
        "plt.text(x0,y0,r'$(x_0,y_0)$')\n",
        "plt.plot([0,2*x0],[2*y0,0],color='red',label=r'$-1/x^2$')\n",
        "x1=.3\n",
        "y1=1/x1\n",
        "plt.text(x1,y1,r'$(x_1,y_1)$')\n",
        "plt.scatter(x1,y1, s=10, color='green', marker='o')\n",
        "plt.plot([0,2*x1],[2*y1,0],color='green',label=r'$-1/x^2$')\n",
        "#plt.gca().set_aspect('equal')\n",
        "plt.legend(loc='best')\n",
        "plt.show()"
      ],
      "execution_count": 19,
      "outputs": [
        {
          "output_type": "display_data",
          "data": {
            "image/png": "[encoded data removed]",
            "text/plain": [
              "<Figure size 432x288 with 1 Axes>"
            ]
          },
          "metadata": {
            "tags": [],
            "needs_background": "light"
          }
        }
      ]
    },
    {
      "cell_type": "code",
      "metadata": {
        "id": "ajEviS4lZ16i"
      },
      "source": [
        ""
      ],
      "execution_count": null,
      "outputs": []
    }
  ]
}