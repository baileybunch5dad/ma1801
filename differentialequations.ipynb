{
  "nbformat": 4,
  "nbformat_minor": 0,
  "metadata": {
    "colab": {
      "name": "differentialequations.ipynb",
      "provenance": [],
      "authorship_tag": "ABX9TyN4CRX+j5ISAHIE7pD3M43y",
      "include_colab_link": true
    },
    "kernelspec": {
      "name": "python3",
      "display_name": "Python 3"
    }
  },
  "cells": [
    {
      "cell_type": "markdown",
      "metadata": {
        "id": "view-in-github",
        "colab_type": "text"
      },
      "source": [
        "<a href=\"https://colab.research.google.com/github/baileybunch5dad/ma1801/blob/main/differentialequations.ipynb\" target=\"_parent\"><img src=\"https://colab.research.google.com/assets/colab-badge.svg\" alt=\"Open In Colab\"/></a>"
      ]
    },
    {
      "cell_type": "code",
      "metadata": {
        "id": "Tl1njXFbKQfF"
      },
      "source": [
        ""
      ],
      "execution_count": null,
      "outputs": []
    },
    {
      "cell_type": "markdown",
      "metadata": {
        "id": "9ZkzoM-_KTQp"
      },
      "source": [
        "$$\n",
        "\\frac{dy}{dx} = f(x) \\quad \\text{ solved with } \\quad  y=\\int f(x) dx\n",
        "$$"
      ]
    },
    {
      "cell_type": "markdown",
      "metadata": {
        "id": "VRXLn5ySK82-"
      },
      "source": [
        "### Example\n",
        "\n",
        "$$\n",
        "\\left( \\frac{d}{dx} + x \\right) y = 0 \n",
        "$$\n",
        "\n",
        "Note that $(\\frac{d}{dx}+x)$ is called the annihilation operator in quantum mechanics\n",
        "\n",
        "Solving\n",
        "\n",
        "$$\n",
        "\\begin{aligned}\n",
        "\\frac{dy}{dx} &= -xy \\\\\n",
        "\\frac{dy}{y} &= -xdx \\\\\n",
        "\\int \\frac{dy}{y} &= - \\int x dx \\\\\n",
        "\\ln y &= - \\frac{1}{2}  x^2 + c & y \\gt 0 \\\\\n",
        "y &= e^{- \\frac{1}{2}  x^2 + c} \\\\\n",
        "y &= e^{- \\frac{1}{2}  x^2} e^c \\\\\n",
        "y &= A e^{-\\frac{1}{2 }x^2} & A=e^c \\\\\n",
        "\\end{aligned}\n",
        "$$\n",
        "\n",
        "Solution\n",
        "\n",
        "$$\n",
        "\\begin{aligned}\n",
        "y &= ae^{-x^2/2) \\\\\n",
        "\\frac{dy}{dx} &= a \\frac{d}{dx} e^{-x^2/2) \\\\\n",
        "&= a (-x) e^{-x^2/2) \\\\\n",
        "&= (-x) e^{-x^2/2) \\\\\n",
        "&= -xy \\\\\n",
        "\\end{aligned}\n",
        "$$\n"
      ]
    },
    {
      "cell_type": "markdown",
      "metadata": {
        "id": "6G74S4KlRtTP"
      },
      "source": [
        "## Separation of Variables\n",
        "\n",
        "$$\n",
        "\\begin{aligned}\n",
        "\\frac{dy}{dx} &= f(x) g(y) \\\\\n",
        "\\frac{dy}{g(y)} &= f(x) dx \\\\ \n",
        "H(y) &= \\int \\frac{dy}{g(y)}; F(x) = \\int f(x) dx \\\\\n",
        "H(y) &= F(x) + c \\\\\n",
        "y &= H^{-1}\\left(F(x)+c\\right) \\\\\n",
        "\\end{aligned}\n",
        "$$"
      ]
    }
  ]
}