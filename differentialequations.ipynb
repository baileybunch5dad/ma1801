{
  "nbformat": 4,
  "nbformat_minor": 0,
  "metadata": {
    "colab": {
      "name": "differentialequations.ipynb",
      "provenance": [],
      "authorship_tag": "ABX9TyOXFbCzYDvAU/ILzao7K9P6",
      "include_colab_link": true
    },
    "kernelspec": {
      "name": "python3",
      "display_name": "Python 3"
    }
  },
  "cells": [
    {
      "cell_type": "markdown",
      "metadata": {
        "id": "view-in-github",
        "colab_type": "text"
      },
      "source": [
        "<a href=\"https://colab.research.google.com/github/baileybunch5dad/ma1801/blob/main/differentialequations.ipynb\" target=\"_parent\"><img src=\"https://colab.research.google.com/assets/colab-badge.svg\" alt=\"Open In Colab\"/></a>"
      ]
    },
    {
      "cell_type": "code",
      "metadata": {
        "id": "Tl1njXFbKQfF"
      },
      "source": [
        ""
      ],
      "execution_count": null,
      "outputs": []
    },
    {
      "cell_type": "markdown",
      "metadata": {
        "id": "9ZkzoM-_KTQp"
      },
      "source": [
        "$$\n",
        "\\frac{dy}{dx} = f(x) \\quad \\text{ solved with } \\quad  y=\\int f(x) dx\n",
        "$$"
      ]
    },
    {
      "cell_type": "markdown",
      "metadata": {
        "id": "VRXLn5ySK82-"
      },
      "source": [
        "### Example\n",
        "\n",
        "$$\n",
        "\\left( \\frac{d}{dx} + x \\right) y = 0 \n",
        "$$\n",
        "\n",
        "Note that $(\\frac{d}{dx}+x)$ is called the annihilation operator in quantum mechanics\n",
        "\n",
        "Solving\n",
        "\n",
        "$$\n",
        "\\begin{aligned}\n",
        "\\frac{dy}{dx} &= -xy \\\\\n",
        "\\frac{dy}{y} &= -xdx \\\\\n",
        "\\int \\frac{dy}{y} &= - \\int x dx \\\\\n",
        "\\ln y &= - \\frac{1}{2}  x^2 + c & y \\gt 0 \\\\\n",
        "y &= e^{- \\frac{1}{2}  x^2 + c} \\\\\n",
        "y &= e^{- \\frac{1}{2}  x^2} e^c \\\\\n",
        "y &= A e^{-\\frac{1}{2 }x^2} & A=e^c \\\\\n",
        "\\end{aligned}\n",
        "$$\n",
        "\n",
        "Solution\n",
        "\n",
        "$$\n",
        "\\begin{aligned}\n",
        "y &= ae^{-x^2/2) \\\\\n",
        "\\frac{dy}{dx} &= a \\frac{d}{dx} e^{-x^2/2) \\\\\n",
        "&= a (-x) e^{-x^2/2) \\\\\n",
        "&= (-x) e^{-x^2/2) \\\\\n",
        "&= -xy \\\\\n",
        "\\end{aligned}\n",
        "$$\n"
      ]
    },
    {
      "cell_type": "markdown",
      "metadata": {
        "id": "6G74S4KlRtTP"
      },
      "source": [
        "## Separation of Variables\n",
        "\n",
        "$$\n",
        "\\begin{aligned}\n",
        "\\frac{dy}{dx} &= f(x) g(y) \\\\\n",
        "\\frac{dy}{g(y)} &= f(x) dx \\\\ \n",
        "H(y) &= \\int \\frac{dy}{g(y)}; F(x) = \\int f(x) dx \\\\\n",
        "H(y) &= F(x) + c \\\\\n",
        "y &= H^{-1}\\left(F(x)+c\\right) \\\\\n",
        "\\end{aligned}\n",
        "$$"
      ]
    },
    {
      "cell_type": "markdown",
      "metadata": {
        "id": "UZaaQRtxBBQL"
      },
      "source": [
        "## Example\r\n",
        "\r\n",
        "Find equatio where ray from original is half slope of tangent\r\n",
        "\r\n",
        "$$\r\n",
        "\\begin{aligned}\r\n",
        "\\frac{dy}{dx} &= 2\\frac{y}{x} \\\\\r\n",
        "\\frac{dy}{y} &= 2 \\frac{dx}{x} \\\\\r\n",
        "\\ln y &= 2 \\ln x + c \\\\\r\n",
        "y &= A x ^2 \\\\\r\n",
        "\\end{aligned}\r\n",
        "$$"
      ]
    },
    {
      "cell_type": "code",
      "metadata": {
        "colab": {
          "base_uri": "https://localhost:8080/",
          "height": 265
        },
        "id": "ES1Bc-bJB0Af",
        "outputId": "c3937d9d-91b3-422d-b7e9-c844e8110899"
      },
      "source": [
        "import matplotlib.pyplot as plt\r\n",
        "import numpy as np\r\n",
        "for A in [2,-2]:\r\n",
        "  x = np.linspace(-2,2,100)\r\n",
        "  y = A * x * x\r\n",
        "  plt.plot(x,y)\r\n",
        "plt.show()"
      ],
      "execution_count": 2,
      "outputs": [
        {
          "output_type": "display_data",
          "data": {
            "image/png": "[encoded data removed]",
            "text/plain": [
              "<Figure size 432x288 with 1 Axes>"
            ]
          },
          "metadata": {
            "tags": [],
            "needs_background": "light"
          }
        }
      ]
    },
    {
      "cell_type": "markdown",
      "metadata": {
        "id": "HtUpn_MzCSxB"
      },
      "source": [
        "Find pcurves erpendiclar to the parabola\r\n",
        "$$\r\n",
        "\\begin{aligned}\r\n",
        "\\frac{dy}{dx} &= \\frac{-1}{\\text{slope of tangent}} = \\frac{-1}{2\\frac{y}{x}} = \\frac{-x}{2y} \\\\\r\n",
        "2ydy &= -x dx \\\\\r\n",
        "y^2 &= x^2/2 + c \\\\\r\n",
        "y &= \\pm \\sqrt{a^2  -x^2/2} \\\\\r\n",
        "\\end{aligned}\r\n",
        "$$"
      ]
    },
    {
      "cell_type": "code",
      "metadata": {
        "colab": {
          "base_uri": "https://localhost:8080/",
          "height": 265
        },
        "id": "Sz4qJEN5Ei9y",
        "outputId": "2c5b52ee-9697-436b-fe10-d21d876fbab4"
      },
      "source": [
        "import matplotlib.pyplot as plt\r\n",
        "import numpy as np\r\n",
        "for s in [1,-1]:\r\n",
        "  a=2\r\n",
        "  x = np.linspace(-2,2,100)\r\n",
        "  y = a * x * x\r\n",
        "  plt.plot(x,y)\r\n",
        "  x = np.linspace(-2,2,100)\r\n",
        "  y = s*a * x * x\r\n",
        "  plt.plot(x,y)\r\n",
        "  a = 2\r\n",
        "  x = np.linspace(-2,2,100)\r\n",
        "  y = s*np.sqrt(a*a-x*x/2)\r\n",
        "  plt.plot(x,y)\r\n",
        "plt.gca().set_aspect('equal')\r\n",
        "plt.show()"
      ],
      "execution_count": 16,
      "outputs": [
        {
          "output_type": "display_data",
          "data": {
            "image/png": "[encoded data removed]",
            "text/plain": [
              "<Figure size 432x288 with 1 Axes>"
            ]
          },
          "metadata": {
            "tags": [],
            "needs_background": "light"
          }
        }
      ]
    }
  ]
}