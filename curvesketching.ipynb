{
  "nbformat": 4,
  "nbformat_minor": 0,
  "metadata": {
    "colab": {
      "name": "curvesketching.ipynb",
      "provenance": [],
      "authorship_tag": "ABX9TyOV+ujMQRzFwRZiQupj2N9m",
      "include_colab_link": true
    },
    "kernelspec": {
      "name": "python3",
      "display_name": "Python 3"
    }
  },
  "cells": [
    {
      "cell_type": "markdown",
      "metadata": {
        "id": "view-in-github",
        "colab_type": "text"
      },
      "source": [
        "<a href=\"https://colab.research.google.com/github/baileybunch5dad/ma1801/blob/main/curvesketching.ipynb\" target=\"_parent\"><img src=\"https://colab.research.google.com/assets/colab-badge.svg\" alt=\"Open In Colab\"/></a>"
      ]
    },
    {
      "cell_type": "markdown",
      "metadata": {
        "id": "N8xU5KsPq8_Z"
      },
      "source": [
        "## Curve Sketching\n",
        "\n",
        "### If  $f^{\\prime}(x)>0 \\implies f(x)$ increasing\n",
        "\n",
        "### If  $f^{\\prime}(x)<0 \\implies f(x)$ decreasing\n",
        "\n",
        "### If  $f^{\\prime \\prime}(x)>0 \\implies f^{\\prime}(x)$ increasing $\\implies f$ concave up\n",
        "\n",
        "### If  $f^{\\prime \\prime}(x)<0 \\implies f^{\\prime}(x)$ decreasing $\\implies f$ concave down\n",
        "\n",
        "### if $f^\\prime(x_0)=0 \\implies x_0$ is a critical point\n",
        "\n",
        "### $y_0=f(x_0)$ is a critical value \n",
        "\n",
        "Find critical points for $f(x)=3x-x^3$\n",
        "\n",
        "$$\n",
        "f^\\prime(x)=0 \\implies 3(1-x)(1+x)=0 \\implies x=\\pm 1 \\implies y=\\pm 2\n",
        "$$"
      ]
    },
    {
      "cell_type": "markdown",
      "metadata": {
        "id": "FF6UMSyKthii"
      },
      "source": [
        "## Example $f(x)=3x-x^3$\n",
        "\n",
        "$$\n",
        "\\begin{aligned}\n",
        "f(x) &= 3x-x^3 \\\\\n",
        "f^{\\prime}(x) &= 3-3x^2 \\\\\n",
        "&= 3(1-x)(1+x) \\\\\n",
        "& -1<x<1 \\implies f^{\\prime}>0, f \\text{ increasing} \\\\\n",
        "& |x|>1 \\implies f^{\\prime} < 0, f \\text{ decreasing} \\\\\n",
        "f^{\\prime \\prime} (x) &= -6x \\\\\n",
        "\\end{aligned}\n",
        "$$"
      ]
    },
    {
      "cell_type": "code",
      "metadata": {
        "colab": {
          "base_uri": "https://localhost:8080/",
          "height": 285
        },
        "id": "tfC5tPTBt2va",
        "outputId": "7f0ce7aa-5ae9-4a2b-ed1f-fdd8cfd7dc0b"
      },
      "source": [
        "import matplotlib.pyplot as plt\n",
        "import math\n",
        "import numpy as np\n",
        "x = np.linspace(-1.2,1.2,51)\n",
        "plt.plot(x,3*x-x**3)\n",
        "\n",
        "def dot(x0,y0,hor='center',ver='center'):\n",
        "  plt.scatter(x0,y0, s=10, color='green', marker='o')\n",
        "  txt = \"({:.2f},{:.2f})\".format(x0,y0)\n",
        "  plt.text(x0,y0,txt,ha=hor,va=ver)\n",
        "\n",
        "dot(-1,-2,'left','bottom')\n",
        "dot(1,2,'right','top')\n",
        "\n",
        "plt.title(r'$f(x)=3x-x^3$ ')\n",
        "plt.show()\n"
      ],
      "execution_count": 8,
      "outputs": [
        {
          "output_type": "display_data",
          "data": {
            "image/png": "[encoded data removed]",
            "text/plain": [
              "<Figure size 432x288 with 1 Axes>"
            ]
          },
          "metadata": {
            "tags": [],
            "needs_background": "light"
          }
        }
      ]
    },
    {
      "cell_type": "code",
      "metadata": {
        "colab": {
          "base_uri": "https://localhost:8080/",
          "height": 265
        },
        "id": "iNBF0sU7q6Ot",
        "outputId": "a84b57bb-cffa-4934-e8d9-2a5bafdd9932"
      },
      "source": [
        "# Example where second derivative is increasing\n",
        "import matplotlib.pyplot as plt\n",
        "import numpy as np\n",
        "import math\n",
        "import pandas as pd\n",
        "x=np.linspace(.1,.9,50)\n",
        "y = 1/x\n",
        "plt.plot(x,y)\n",
        "x0=0.2\n",
        "x = np.linspace(x0-.1,x0+.1)\n",
        "m=-1/x0**2\n",
        "# y-y0 = m(x-x0) ==> y = m(x-x0) + f(x0)\n",
        "y = m*(x-x0)+1/x0\n",
        "plt.plot(x,y)\n",
        "x0=.4\n",
        "m=-1/x0**2\n",
        "x = np.linspace(x0-.1,x0+.1)\n",
        "y = m*(x-x0)+1/x0\n",
        "plt.plot(x,y)\n",
        "\n",
        "plt.show()\n"
      ],
      "execution_count": 3,
      "outputs": [
        {
          "output_type": "display_data",
          "data": {
            "image/png": "[encoded data removed]",
            "text/plain": [
              "<Figure size 432x288 with 1 Axes>"
            ]
          },
          "metadata": {
            "tags": [],
            "needs_background": "light"
          }
        }
      ]
    }
  ]
}