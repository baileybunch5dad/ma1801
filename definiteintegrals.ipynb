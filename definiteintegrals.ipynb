{
  "nbformat": 4,
  "nbformat_minor": 0,
  "metadata": {
    "colab": {
      "name": "definiteintegrals.ipynb",
      "provenance": [],
      "authorship_tag": "ABX9TyN0VCNoJhlvxMq4F1F6w6N2",
      "include_colab_link": true
    },
    "kernelspec": {
      "name": "python3",
      "display_name": "Python 3"
    }
  },
  "cells": [
    {
      "cell_type": "markdown",
      "metadata": {
        "id": "view-in-github",
        "colab_type": "text"
      },
      "source": [
        "<a href=\"https://colab.research.google.com/github/baileybunch5dad/ma1801/blob/main/definiteintegrals.ipynb\" target=\"_parent\"><img src=\"https://colab.research.google.com/assets/colab-badge.svg\" alt=\"Open In Colab\"/></a>"
      ]
    },
    {
      "cell_type": "markdown",
      "metadata": {
        "id": "bZs0hSKZVTTD"
      },
      "source": [
        "## Find area under a curve\n",
        "\n",
        "\n",
        "\n",
        "\n",
        "### Also a cumulative sum\n",
        "\n",
        "Example\n",
        "\n",
        "$$\n",
        "y = \\int_ a^b f(x)dx \n",
        "$$\n",
        "With a concrete example\n",
        "$$\n",
        "y = \\int_0^b x^2 dx\n",
        "$$"
      ]
    },
    {
      "cell_type": "code",
      "metadata": {
        "colab": {
          "base_uri": "https://localhost:8080/",
          "height": 265
        },
        "id": "wvsxiD8mV38S",
        "outputId": "b25f87aa-0d0b-4edd-e1ac-a4127bc76cef"
      },
      "source": [
        "import matplotlib.pyplot as plt\n",
        "import numpy as np\n",
        "def f(t):\n",
        "    return t * t\n",
        "a = 0\n",
        "b = 2    \n",
        "x = np.linspace(a,b,100)\n",
        "y = f(x)\n",
        "plt.fill_between(x,y)\n",
        "plt.xlim(-1,3)\n",
        "plt.xticks([a,b],['a','b'])\n",
        "plt.show()"
      ],
      "execution_count": 11,
      "outputs": [
        {
          "output_type": "display_data",
          "data": {
            "image/png": "[encoded data removed]",
            "text/plain": [
              "<Figure size 432x288 with 1 Axes>"
            ]
          },
          "metadata": {
            "tags": [],
            "needs_background": "light"
          }
        }
      ]
    },
    {
      "cell_type": "markdown",
      "metadata": {
        "id": "isdcGQnwWjDM"
      },
      "source": [
        " "
      ]
    }
  ]
}