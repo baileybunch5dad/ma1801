{
  "nbformat": 4,
  "nbformat_minor": 0,
  "metadata": {
    "colab": {
      "name": "fundamentaltheorem.ipynb",
      "provenance": [],
      "authorship_tag": "ABX9TyO1U4xQM00Ji2f/3wl2FcsS",
      "include_colab_link": true
    },
    "kernelspec": {
      "name": "python3",
      "display_name": "Python 3"
    }
  },
  "cells": [
    {
      "cell_type": "markdown",
      "metadata": {
        "id": "view-in-github",
        "colab_type": "text"
      },
      "source": [
        "<a href=\"https://colab.research.google.com/github/baileybunch5dad/ma1801/blob/main/fundamentaltheorem.ipynb\" target=\"_parent\"><img src=\"https://colab.research.google.com/assets/colab-badge.svg\" alt=\"Open In Colab\"/></a>"
      ]
    },
    {
      "cell_type": "markdown",
      "metadata": {
        "id": "8vkEB136j1hW"
      },
      "source": [
        "# Fundamental Theorem of Calculus\n",
        "\n",
        "## Version 1\n",
        "\n",
        "$$\n",
        "\\begin{aligned}\n",
        "\\text{If }F^\\prime(x)&=f(x) \\\\\n",
        "\\text{then }\\int_a^b f(x)dx&=F(b)-F(a)\\\\\n",
        "\\end{aligned}\n",
        "$$\n",
        "\n",
        "Also written using different notation\n",
        "\n",
        "$$\n",
        "\\begin{aligned}\n",
        "F(b)-F(a)&=F(x)\\big\\vert_a^b \\\\\n",
        "&=  F(x)\\big\\vert_{x=a}^{x=b} \\\\\n",
        "\\end{aligned}\n",
        "$$\n",
        "\n",
        "### Example $F(x)=x^3/3$\n",
        "\n",
        "$$\n",
        "\\begin{aligned}\n",
        "F(x) &= x^3/3 \\\\\n",
        "F^\\prime(x) &= x^2 & (=f(x)) \\\\\n",
        "\\implies \\int_a^b x^2 dx &= b^3/3 - a^3 / 3 \\\\\n",
        "\\end{aligned}\n",
        "$$"
      ]
    },
    {
      "cell_type": "code",
      "metadata": {
        "colab": {
          "base_uri": "https://localhost:8080/",
          "height": 265
        },
        "id": "3EggQHnmjvtE",
        "outputId": "7e1810cb-52d2-45bf-d2a5-3e9e8f515c35"
      },
      "source": [
        "import matplotlib.pyplot as plt\n",
        "import numpy as np\n",
        "a=.1\n",
        "b=2\n",
        "x = np.linspace(a,b,100)\n",
        "def f(x): return x**2\n",
        "y = f(x)\n",
        "plt.fill_between(x,y)\n",
        "plt.fill_between(x,y)\n",
        "plt.xlim(-1,3)\n",
        "plt.xticks([a,b],['a','b'])\n",
        "\n",
        "plt.show()"
      ],
      "execution_count": 3,
      "outputs": [
        {
          "output_type": "display_data",
          "data": {
            "image/png": "[encoded data removed]",
            "text/plain": [
              "<Figure size 432x288 with 1 Axes>"
            ]
          },
          "metadata": {
            "tags": [],
            "needs_background": "light"
          }
        }
      ]
    },
    {
      "cell_type": "markdown",
      "metadata": {
        "id": "WATsNIkGoYgv"
      },
      "source": [
        "## Example: Area under one hump of $\\sin x$\n",
        "\n",
        "$$\n",
        "\\begin{aligned}\n",
        "A &= \\int_0^{\\pi} \\sin(x)dx \\\\\n",
        "&= -\\cos(x) \\big\\vert_0^{\\pi} \\\\\n",
        "&= -\\cos(\\pi) - (-\\cos(0)) \\\\\n",
        "&= -(-1) - (-(1)) \\\\\n",
        "&= 2 \\\\\n",
        "\\end{aligned}\n",
        "$$\n",
        "\n"
      ]
    },
    {
      "cell_type": "code",
      "metadata": {
        "colab": {
          "base_uri": "https://localhost:8080/",
          "height": 265
        },
        "id": "ElwvdC60oklp",
        "outputId": "9fb40165-0d9c-40d9-b1b7-45630b4f9216"
      },
      "source": [
        "import matplotlib.pyplot as plt\n",
        "import numpy as np\n",
        "import math\n",
        "a=0\n",
        "b=math.pi\n",
        "x = np.linspace(a,b,100)\n",
        "def f(x): return np.sin(x)\n",
        "y = f(x)\n",
        "plt.fill_between(x,y)\n",
        "plt.fill_between(x,y)\n",
        "plt.xlim(-1,4)\n",
        "plt.xticks([a,b],['0',r'$\\pi$'])\n",
        "\n",
        "plt.show()"
      ],
      "execution_count": 4,
      "outputs": [
        {
          "output_type": "display_data",
          "data": {
            "image/png": "[encoded data removed]",
            "text/plain": [
              "<Figure size 432x288 with 1 Axes>"
            ]
          },
          "metadata": {
            "tags": [],
            "needs_background": "light"
          }
        }
      ]
    },
    {
      "cell_type": "markdown",
      "metadata": {
        "id": "7n1-2NT5q0xc"
      },
      "source": [
        "## Intuitive interpretation of fundamental theorem\n",
        "\n",
        "$$\n",
        "\\begin{aligned}\n",
        "x(t) &= \\text{position at time }t \\\\\n",
        "x^\\prime(t) &= \\frac{dx}{dt} = v(t) = \\text{speed} \\\\\n",
        "\\int_a^b v(t) &= x(b)-x(a) \\\\\n",
        "\\text{speedometer (time $a$ to $b$)} &= \\text{odometer (distance traveled)} \\\\\n",
        "\\text{also } v(t)\\Delta t &= \\text{distance} \\\\\n",
        "\\text{so } \\sum_{i=1}^n v(t_i)\\Delta t &\\approx \\int_a^b v(t)dt = x(b)-x(a) \\text{ exactly} \\\\\n",
        "\\end{aligned}\n",
        "$$"
      ]
    },
    {
      "cell_type": "markdown",
      "metadata": {
        "id": "FNfjSGbduOC7"
      },
      "source": [
        "## Geometric interpretation \n",
        "\n",
        "True geometric interpretation of definite integral is plus area above $x$ axis minus area under $x$ axis\n"
      ]
    },
    {
      "cell_type": "markdown",
      "metadata": {
        "id": "roVXGrbNvCgn"
      },
      "source": [
        "## Properties of integrals\n",
        "\n",
        "Sums\n",
        "\n",
        "$$\n",
        "\\int_a^b \\left(f(x) + g(x)\\right)dx = \\int_a^b f(x) dx + \\int_a^b g(x) dx \n",
        "$$\n",
        "\n",
        "Constant\n",
        "\n",
        "$$\n",
        "\\int_a^b cf(x)dx = c \\int_a^b f(x)dx \\\\\n",
        "$$\n",
        "\n",
        "Dividing into subregions\n",
        "\n",
        "$$\n",
        "\\int_a^b f(x)dx + \\int_b^c f(x)dx = \\int_a^c f(x)dx \n",
        "$$\n",
        "\n",
        "Single point\n",
        "\n",
        "$$\n",
        "\\int_a^a f(x)dx = 0\n",
        "$$\n",
        "\n",
        "Switch $a$ and $b$ negates\n",
        "\n",
        "$$\n",
        "\\int_a^b f(x)dx = - \\int_b^a f(x)dx)\n",
        "$$\n",
        "\n",
        "Estimation (e.g., if I am going more slowly than you, then you go farther than I do)\n",
        "\n",
        "$$\n",
        "\\text{If }f(x)\\le g(x) \\text{ then } \\int_a^b f(x)dx \\le \\int_a^b g(x)dx \\quad \\text{ if }a \\lt b\n",
        "$$\n",
        "\n",
        "Example of estimation\n",
        "\n",
        "$$\n",
        "\\begin{aligned}\n",
        "e^x &\\ge 1, x \\ge 0 \\quad \\text{start} \\\\\n",
        "\\int_0^b e^xdx &\\ge \\int_0^b 1dx \\\\\n",
        "e^x\\big\\vert_0^b &\\ge x\\big\\vert_0^b \\\\\n",
        "e^b-e^0 &\\ge b-0 \\\\\n",
        "e^b &\\ge b+1 \\\\\n",
        "\\text{Repeat to prove }e^x &\\ge 1+x & x \\ge 0 \\\\ \n",
        "\\int_0^b e^x &\\ge \\int_0^b 1+x \\\\\n",
        "e^b-1 &\\ge \\left( x+\\frac{x^2}{2} \\right) \\bigg\\vert_0^b \\\\\n",
        "e^b - 1 &\\ge b + \\frac{b^2}{2} \\\\\n",
        "e^b &\\ge 1 + b + \\frac{b^2}{2} \\\\\n",
        "\\text{Repeat to prove }e^x &\\ge 1 + x + \\frac{x^2}{2} \\\\\n",
        "\\int_0^b e^x &\\ge \\int_0^b (1 + x + \\frac{x^2}{2})dx \\\\\n",
        "e^b-1 &\\ge \\left( x + \\frac{x^2}{2} + \\frac{x^3}{3!} \\right) \\big\\vert_0^b \\\\\n",
        "e^x &\\ge 1 + x + \\frac{x^2}{2!} + \\frac{x^3}{3!} \\\\\n",
        "\\end{aligned}\n",
        "$$"
      ]
    },
    {
      "cell_type": "code",
      "metadata": {
        "colab": {
          "base_uri": "https://localhost:8080/"
        },
        "id": "T0Reh5VYwcan",
        "outputId": "124bced7-03ee-4462-80b1-b13f4e444c81"
      },
      "source": [
        "import numpy as np\n",
        "import math\n",
        "x = 4\n",
        "print(np.exp(x))\n",
        "print(1 + x + x**2/2)\n",
        "print(1 + x + x**2/2 + x**3/6)\n",
        "print(np.sum([x**i/math.factorial(i) for i in range(10)]))\n",
        "print(np.sum([x**i/math.factorial(i) for i in range(40)]))"
      ],
      "execution_count": 15,
      "outputs": [
        {
          "output_type": "stream",
          "text": [
            "54.598150033144236\n",
            "13.0\n",
            "23.666666666666664\n",
            "54.15414462081129\n",
            "54.598150033144236\n"
          ],
          "name": "stdout"
        }
      ]
    },
    {
      "cell_type": "markdown",
      "metadata": {
        "id": "Q6A8q93j3-ij"
      },
      "source": [
        "## Change of variables\n",
        "\n",
        "aka substitution\n",
        "\n",
        "$$\n",
        "\\begin{aligned}\n",
        "\\int_{u_1}^{u_2} g(u)du &= \\int_{x_1}^{x_2} g(u(x)) u^\\prime(x) dx \\\\\n",
        "u &= u(x) , du = u^\\prime(x)dx , u_1 = u(x_1), u_2 = u(x_2) \\\\\n",
        "\\end{aligned}\n",
        "$$\n",
        "\n",
        "This **only** works if $u^\\prime$ does not change sign\n",
        "\n",
        "## Example\n",
        "\n",
        "$$\n",
        "\\begin{aligned}\n",
        "\\int_{x=1}^{x=2} (x^3+2)^5 x^2 dx &= \\\\\n",
        "u(x) &= u = x^3 + 2 \\\\\n",
        "u^\\prime(x)dx &= du = 3x^2 dx \\\\\n",
        "&= \\int_{u=x^3+2,x=1}^{u=x^3+2,x=2} u^5 \\frac{1}{3} du \\\\\n",
        "&= \\int_{u=3}^{u=10} u^5 \\frac{1}{3} du \\\\\n",
        "&= \\frac{1}{3} \\frac{u^6}{6} \\big\\vert_{u=3}^{u=10} \\\\\n",
        "&= \\frac{10^6}{18} - \\frac{3^6}{18} \\\\\n",
        "\\end{aligned}\n",
        "$$"
      ]
    },
    {
      "cell_type": "markdown",
      "metadata": {
        "id": "v1sR9Lta8U-z"
      },
      "source": [
        "## Warning with sign switch\n",
        "\n",
        "$$\n",
        "\\begin{aligned}\n",
        "\\int_{-1}^{1} x^2 dx &= \\\\\n",
        "u &= x^2 \\\\\n",
        "du &= 2x dx \\\\\n",
        "u_1 &= (-1)^2 = 1 \\\\\n",
        "u_2 &= 1^2 = 1 \\\\\n",
        "&\\ne \\int_1^1 u \\frac{1}{2\\sqrt{u}} du = 0 \\\\\n",
        "u &= x^2, u^\\prime=2x  \\begin{cases} \n",
        "\\gt 0 & x \\gt 0 \\\\\n",
        "\\lt 0 & x \\lt 0 \\\\\n",
        "\\end{cases} \\\\\n",
        "\\text{ because } dx &= \\frac{1}{2x}, du = \\frac{1}{2\\sqrt{u}} du, \\text { but } x = \\pm \\sqrt{u} \\\\\n",
        "\\end{aligned}\n",
        "$$"
      ]
    }
  ]
}