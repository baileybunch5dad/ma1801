{
  "nbformat": 4,
  "nbformat_minor": 0,
  "metadata": {
    "colab": {
      "name": "derivativesinx.ipynb",
      "provenance": [],
      "authorship_tag": "ABX9TyNsybvK5pv4/cnSP/npVQ+Y",
      "include_colab_link": true
    },
    "kernelspec": {
      "name": "python3",
      "display_name": "Python 3"
    }
  },
  "cells": [
    {
      "cell_type": "markdown",
      "metadata": {
        "id": "view-in-github",
        "colab_type": "text"
      },
      "source": [
        "<a href=\"https://colab.research.google.com/github/baileybunch5dad/ma1801/blob/main/derivativesinx.ipynb\" target=\"_parent\"><img src=\"https://colab.research.google.com/assets/colab-badge.svg\" alt=\"Open In Colab\"/></a>"
      ]
    },
    {
      "cell_type": "code",
      "metadata": {
        "id": "Kly7-4enbEuY"
      },
      "source": [
        ""
      ],
      "execution_count": null,
      "outputs": []
    },
    {
      "cell_type": "markdown",
      "metadata": {
        "id": "KcFXon3vbF48"
      },
      "source": [
        "\n",
        "## Prove $\\frac{d}{dx}\\sin x = cos x$\n",
        "\n",
        "\n",
        "Given: \n",
        "$$\n",
        "\\begin{aligned}\n",
        "\\sin (a+b)&=\\sin a \\cos b + \\cos a \\sin b \\\\\n",
        "\\lim_{x \\to 0} \\frac{\\cos x - 1}{x} &= 0 \\\\\n",
        "\\lim_{x \\to 0} \\frac{\\sin x }{x} &= 1 \\\\\n",
        "\\end{aligned}\n",
        "$$\n",
        "\n",
        "Proof (derivation)\n",
        "\n",
        "$$\n",
        "\\begin{aligned}\n",
        "\\frac{d}{dx} \\sin (x) &= \\lim_{\\Delta x \\to 0} \\frac{\\sin (x + \\Delta x) - \\sin(x)}{\\Delta x}  \\\\\n",
        "&= \\lim_{\\Delta x \\to 0} \\frac{(\\sin x \\cos \\Delta x + \\cos x \\sin \\Delta x) - \\sin x}{\\Delta x}  \\\\\n",
        "&= \\lim_{\\Delta x \\to 0} \\left( \\sin x \\left( \\frac{\\cos \\Delta x - 1}{\\Delta x} \\right) + \\cos x \\left( \\frac{\\sin \\Delta x}{\\Delta x} \\right) \\right) \\\\\n",
        "&= \\sin x \\left( \\lim_{\\Delta x \\to 0}   \\left( \\frac{\\cos \\Delta x - 1}{\\Delta x} \\right) \\right) + \\cos x \\left( \\lim_{\\Delta x \\to 0} \\left( \\frac{\\sin \\Delta x}{\\Delta x} \\right) \\right) \\\\\n",
        "&= \\cos x\n",
        "\\end{aligned}\n",
        "$$\n"
      ]
    },
    {
      "cell_type": "markdown",
      "metadata": {
        "id": "HkDWyhwId__V"
      },
      "source": [
        "Point on the tangent line for any $x=x+\\delta$\n",
        "\n",
        "$$\n",
        "\\begin{aligned}\n",
        "(y-y_0) &= \\cos (x_0) (x-x_0) \\\\\n",
        "y &= \\cos(x_0)(x-x_0) + sin(x_0) \\\\\n",
        "\\end{aligned}\n",
        "$$"
      ]
    },
    {
      "cell_type": "code",
      "metadata": {
        "colab": {
          "base_uri": "https://localhost:8080/",
          "height": 265
        },
        "id": "YG18JX-acp1b",
        "outputId": "24390b8d-0e0c-4b26-f119-03385dcaa7f4"
      },
      "source": [
        "import math\n",
        "import numpy as np\n",
        "import pandas as pd\n",
        "import matplotlib.pyplot as plt\n",
        "x = np.linspace(-7,7,100)\n",
        "y = np.sin(x)\n",
        "plt.plot(x,y,color='blue',label=r'$\\sin x$')\n",
        "x0=math.pi/2+.3\n",
        "y0=math.sin(x0)\n",
        "plt.scatter(x0,y0, s=10, color='green', marker='o')\n",
        "plt.text(x0,y0,r'$(x_0,y_0)$')\n",
        "delta=.5\n",
        "xs=np.array([x0-delta,x0+delta])\n",
        "#print(xs)\n",
        "ys=np.cos(x0)*(xs-x0)+np.sin(x0)\n",
        "plt.plot(xs,ys,color='red',label=r'tan=$\\cos x$')\n",
        "\n",
        "x1=-math.pi/2\n",
        "y1=math.sin(x1)\n",
        "plt.scatter(x1,y1, s=10, color='green', marker='o')\n",
        "plt.text(x1,y1,r'$(x_1,y_1)$')\n",
        "delta=1\n",
        "xs=np.array([x1-delta,x1+delta])\n",
        "#print(xs)\n",
        "ys=np.cos(x1)*(xs-x1)+np.sin(x1)\n",
        "plt.plot(xs,ys,color='green',label=r'tan=$\\cos x$')\n",
        "\n",
        "plt.legend(loc='best')\n",
        "plt.show()"
      ],
      "execution_count": 23,
      "outputs": [
        {
          "output_type": "display_data",
          "data": {
            "image/png": "[encoded data removed]",
            "text/plain": [
              "<Figure size 432x288 with 1 Axes>"
            ]
          },
          "metadata": {
            "tags": [],
            "needs_background": "light"
          }
        }
      ]
    },
    {
      "cell_type": "code",
      "metadata": {
        "colab": {
          "base_uri": "https://localhost:8080/"
        },
        "id": "WGW8ZgKLbFU_",
        "outputId": "659fd3d1-7aca-41d1-9989-211e380e7dc2"
      },
      "source": [
        "import math\n",
        "import pandas as pd\n",
        "import numpy as np\n",
        "df = pd.DataFrame(data=None,columns=[\"Delta X\",\"Limit\",\"Derivative\",\"Difference\"])\n",
        "xvals=[math.pi/3, math.pi/7]\n",
        "for ix, x in zip(range(len(xvals)), xvals):\n",
        "  print(\"Demonstrate Trying to converge sin(x) for x =\",x)\n",
        "  dxvals=[10**(-p) for p in range(1, 13)]\n",
        "  for idx, dx in zip(range(len(dxvals)), dxvals):\n",
        "    limitValue=(math.sin(x+dx)-math.sin(x))/dx\n",
        "    derivativeValue=math.cos(x)\n",
        "    difference=abs(limitValue-derivativeValue)\n",
        "    df.loc[idx+1] = np.array([dx,limitValue,derivativeValue,difference])\n",
        "  print(df)"
      ],
      "execution_count": 1,
      "outputs": [
        {
          "output_type": "stream",
          "text": [
            "Demonstrate Trying to converge sin(x) for x = 1.0471975511965976\n",
            "         Delta X     Limit  Derivative    Difference\n",
            "1   1.000000e-01  0.455902         0.5  4.409811e-02\n",
            "2   1.000000e-02  0.495662         0.5  4.338424e-03\n",
            "3   1.000000e-03  0.499567         0.5  4.330960e-04\n",
            "4   1.000000e-04  0.499957         0.5  4.330210e-05\n",
            "5   1.000000e-05  0.499996         0.5  4.330133e-06\n",
            "6   1.000000e-06  0.500000         0.5  4.330281e-07\n",
            "7   1.000000e-07  0.500000         0.5  4.300676e-08\n",
            "8   1.000000e-08  0.500000         0.5  3.038736e-09\n",
            "9   1.000000e-09  0.500000         0.5  4.137019e-08\n",
            "10  1.000000e-10  0.500000         0.5  4.137019e-08\n",
            "11  1.000000e-11  0.500000         0.5  4.137019e-08\n",
            "12  1.000000e-12  0.500044         0.5  4.445029e-05\n",
            "Demonstrate Trying to converge sin(x) for x = 0.4487989505128276\n",
            "         Delta X     Limit  Derivative    Difference\n",
            "1   1.000000e-01  0.877792    0.900969  2.317698e-02\n",
            "2   1.000000e-02  0.898784    0.900969  2.184417e-03\n",
            "3   1.000000e-03  0.900752    0.900969  2.170920e-04\n",
            "4   1.000000e-04  0.900947    0.900969  2.169569e-05\n",
            "5   1.000000e-05  0.900967    0.900969  2.169433e-06\n",
            "6   1.000000e-06  0.900969    0.900969  2.169948e-07\n",
            "7   1.000000e-07  0.900969    0.900969  2.170658e-08\n",
            "8   1.000000e-08  0.900969    0.900969  1.722567e-09\n",
            "9   1.000000e-09  0.900969    0.900969  1.282480e-08\n",
            "10  1.000000e-10  0.900969    0.900969  1.238471e-07\n",
            "11  1.000000e-11  0.900968    0.900969  6.789586e-07\n",
            "12  1.000000e-12  0.900946    0.900969  2.288342e-05\n"
          ],
          "name": "stdout"
        }
      ]
    }
  ]
}