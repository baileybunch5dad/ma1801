{
  "nbformat": 4,
  "nbformat_minor": 0,
  "metadata": {
    "colab": {
      "name": "ftc2.ipynb",
      "provenance": [],
      "collapsed_sections": [],
      "authorship_tag": "ABX9TyPjRgdLYNClySmLw+1E17Ht",
      "include_colab_link": true
    },
    "kernelspec": {
      "name": "python3",
      "display_name": "Python 3"
    }
  },
  "cells": [
    {
      "cell_type": "markdown",
      "metadata": {
        "id": "view-in-github",
        "colab_type": "text"
      },
      "source": [
        "<a href=\"https://colab.research.google.com/github/baileybunch5dad/ma1801/blob/main/ftc2.ipynb\" target=\"_parent\"><img src=\"https://colab.research.google.com/assets/colab-badge.svg\" alt=\"Open In Colab\"/></a>"
      ]
    },
    {
      "cell_type": "code",
      "metadata": {
        "id": "08ULi2LM_dpL"
      },
      "source": [
        ""
      ],
      "execution_count": null,
      "outputs": []
    },
    {
      "cell_type": "markdown",
      "metadata": {
        "id": "RZHwHziB_fzr"
      },
      "source": [
        "## Fundamental Theorem of Calculus Version 2\n",
        "\n",
        "$$\n",
        "F(b)-F(a) = \\int_a^b f(x)dx \n",
        "$$\n",
        "\n",
        "Compare Fundamental Theorem of Calculus (FTC) with Mean Value Theorem (MVC)\n",
        "\n",
        "$$\n",
        "\\begin{aligned}\n",
        "\\Delta F &= F(b)-F(a) \\\\\n",
        "\\Delta x &= b-a \\\\\n",
        "\\Delta F &= \\int_b^b f(x)dx & \\text{(FTC)} \\\\\n",
        "\\frac{\\Delta F}{\\Delta x} &= \\frac{1}{b-a} \\int_a^b f(x)dx \\\\\n",
        "&= \\text{Average value of } f \\\\\n",
        "\\text{So FTC1 is: } \\Delta F &= \\text{Average}(F^\\prime)\\Delta x \\\\ \n",
        "\\text{And MVC: } (\\min F^\\prime)\\Delta x \\le \\Delta F &= F^\\prime(c) \\Delta x \\le (\\max F^\\prime)\\Delta x \\\\\n",
        "\\end{aligned}\n",
        "$$\n"
      ]
    },
    {
      "cell_type": "markdown",
      "metadata": {
        "id": "y9tThxTHEQLh"
      },
      "source": [
        "## Example with MVA\n",
        "\n",
        "$$\n",
        "F^\\prime(x) = \\frac{1}{1+x}, F(0)=1\n",
        "$$\n",
        "\n",
        "MVT implies $a \\lt F(4) \\lt b$ for which $a$ and $b$ \n",
        "\n",
        "$$\n",
        "F(4)-F(0) = F^\\prime (x) \\Delta x = F^\\prime(c) (4-0) = \\frac{1}{1+c}4\\\\\n",
        "$$\n",
        "therefore the range is\n",
        "$$\n",
        "\\text{range } \\left[\\frac{1}{1+0}4\\right] \\quad \\text{ to } \\quad \\left[\\frac{1}{1+4}4 \\right] \\implies \\frac{4}{5} \\lt F(4)-F(0) \\lt 5 \\implies \\frac{9}{5} \\lt F(4) \\lt 5 \\\\ \n",
        "$$"
      ]
    },
    {
      "cell_type": "markdown",
      "metadata": {
        "id": "ZPxj6ImSG21L"
      },
      "source": [
        "## Same with FTC\n",
        "\n",
        "$$\n",
        "F(4)-F(0)=\\int_0^4 \\frac{dx}{1+x}\n",
        "$$"
      ]
    },
    {
      "cell_type": "markdown",
      "metadata": {
        "id": "uHsAziyjIzDZ"
      },
      "source": [
        "# FTC 2\n",
        "\n",
        "If $f$ is continuous, and\n",
        "\n",
        "$$\n",
        "G(x) = \\int_a^x f(t)dt \\quad \\quad  a \\le t \\le x\n",
        "$$\n",
        "then\n",
        "$$\n",
        "G^\\prime(x) = f(x)\n",
        "$$\n",
        "\n",
        "$G(x)$ solves the differential equations $y^\\prime=f, y(a)=0$\n",
        "\n",
        "## Example\n",
        "\n",
        "$$\n",
        "\\frac{d}{dx} \\int_1^x \\frac{dt}{t^2} = \\frac{1}{x^2} \n",
        "$$\n",
        "\n",
        "Check\n",
        "\n",
        "$$\n",
        "\\int_{t=1}^{t=x} t^{-2}dt = -t^{-1}\\vert_{t=1}^{t=x} = -\\frac{1}{x} - -\\frac{1}{1} = \\boxed{ 1 - \\frac{1}{x} } \\\\\n",
        "$$\n",
        "\n",
        "And differentiate \n",
        "\n",
        "$$\n",
        "\\frac{d}{dx} \\left( 1 - \\frac{1}{x} \\right) = \\frac{1}{x^2} \n",
        "$$\n",
        "\n"
      ]
    },
    {
      "cell_type": "markdown",
      "metadata": {
        "id": "V5O3CwnBfJ_P"
      },
      "source": [
        "Alternately worded\n",
        "\n",
        "$$\n",
        "\\frac{d}{dx} \\int_1^x f(t)dt = f(x)\n",
        "$$\n",
        "\n",
        "Solving \n",
        "$$\n",
        "\\begin{aligned}\n",
        "y^\\prime &= \\frac{1}{x} \\\\\n",
        "L(x) &= \\int_1^x \\frac{dt}{t} & \\text{Def of log} \\\\\n",
        "L^\\prime(x) &= \\frac{1}{x}; L(1) = \\int_1^1 \\frac{dt}{t}=0 \\\\\n",
        "L^{\\prime\\prime}(x) &= -\\frac{1}{x^2} \\\\ \n",
        "\\end{aligned}\n",
        "$$"
      ]
    },
    {
      "cell_type": "markdown",
      "metadata": {
        "id": "BiQYiaIXQl_I"
      },
      "source": [
        "## Example\n",
        "\n",
        "$$\n",
        "L^\\prime(x) = \\frac{1}{x}, L(1)=0 \n",
        "$$\n",
        "\n",
        "FTC2 says the solution is\n",
        "\n",
        "$$\n",
        "L(x) = \\int_1^x \\frac{dt}{t} \n",
        "$$\n",
        "\n",
        "starting at 1 because given $L(1)=0$"
      ]
    },
    {
      "cell_type": "code",
      "metadata": {
        "colab": {
          "base_uri": "https://localhost:8080/",
          "height": 265
        },
        "id": "XJPaNVRCG2Mi",
        "outputId": "71074430-f9e4-48c3-ab31-b462f488c240"
      },
      "source": [
        "# sketching the graph\n",
        "import matplotlib.pyplot as plt\n",
        "import numpy as np\n",
        "import math\n",
        "x = np.linspace(.1,5,100)\n",
        "def f(x): return np.log(x)\n",
        "def fp(x): return 1/x\n",
        "x0=1\n",
        "plt.plot(x,f(x))\n",
        "plt.plot(x,fp(x0)*(x-x0)+f(x0),ls='--')\n",
        "e = np.exp(1)\n",
        "left, right = plt.xlim() \n",
        "bottom, top = plt.ylim()\n",
        "plt.plot([e,e],[bottom,top],ls='--')\n",
        "plt.plot([left,right],[1,1],ls='--')\n",
        "plt.hlines(0,left,right,color='black')\n",
        "plt.vlines(0,bottom,top,color='black')\n",
        "plt.show()"
      ],
      "execution_count": 10,
      "outputs": [
        {
          "output_type": "display_data",
          "data": {
            "image/png": "[encoded data removed]",
            "text/plain": [
              "<Figure size 432x288 with 1 Axes>"
            ]
          },
          "metadata": {
            "tags": [],
            "needs_background": "light"
          }
        }
      ]
    },
    {
      "cell_type": "markdown",
      "metadata": {
        "id": "bB6FSItv36mr"
      },
      "source": [
        "## Claim $L(ab)=L(a)+L(b)$\n",
        "\n",
        "Proof\n",
        "$$\n",
        "\\begin{aligned}\n",
        "\\int_1^{ab} \\frac{dt}{t} &= \\int_1^a \\frac{dt}{t} + \\int_a^{ab} \\frac{dt}{t} \\\\\n",
        "\\text{Verify } L(b) &= \\int_a^{ab} \\frac{dt}{t} \\\\\n",
        "\\int_a^{ab} \\frac{dt}{t} &= \\\\\n",
        "\\text{Let } t&=au \\\\\n",
        " dt &= adu \\\\\n",
        " &= \\int_{t=a \\implies u=1}^{t=ab \\implies u=b}  \\frac{adu}{au} \\\\\n",
        " &= L(b) \\\\\n",
        " \\end{aligned}\n",
        "$$\n",
        "\n",
        "\n",
        "Similarly, can prove $L(\\frac{1}{x})=-L(x)$"
      ]
    }
  ]
}